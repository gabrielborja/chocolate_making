{
  "nbformat": 4,
  "nbformat_minor": 0,
  "metadata": {
    "colab": {
      "name": "coating_process_analytics.ipynb",
      "provenance": [],
      "authorship_tag": "ABX9TyP5P4ZxymfO2t/3JUc3pHQp",
      "include_colab_link": true
    },
    "kernelspec": {
      "name": "python3",
      "display_name": "Python 3"
    },
    "language_info": {
      "name": "python"
    }
  },
  "cells": [
    {
      "cell_type": "markdown",
      "metadata": {
        "id": "view-in-github",
        "colab_type": "text"
      },
      "source": [
        "<a href=\"https://colab.research.google.com/github/gabrielborja/chocolate_making/blob/main/coating_process_analytics.ipynb\" target=\"_parent\"><img src=\"https://colab.research.google.com/assets/colab-badge.svg\" alt=\"Open In Colab\"/></a>"
      ]
    },
    {
      "cell_type": "markdown",
      "metadata": {
        "id": "pDDhcMi84qxs"
      },
      "source": [
        "#Sugar syrup analytics"
      ]
    },
    {
      "cell_type": "markdown",
      "metadata": {
        "id": "JU_AkXpy4t_p"
      },
      "source": [
        "## Uploading necessary packages"
      ]
    },
    {
      "cell_type": "code",
      "metadata": {
        "id": "FT9AnQe05hB7"
      },
      "source": [
        "#Uploading packages\n",
        "import pandas as pd\n",
        "import numpy as np\n",
        "import matplotlib.pyplot as plt\n",
        "import seaborn as sns\n",
        "from ipywidgets import interact"
      ],
      "execution_count": null,
      "outputs": []
    },
    {
      "cell_type": "code",
      "metadata": {
        "id": "PkjArWrMFMWx"
      },
      "source": [
        "#Customizing data visualization styles\n",
        "sns.set_theme(rc = {'figure.figsize': (8, 4)})"
      ],
      "execution_count": null,
      "outputs": []
    },
    {
      "cell_type": "code",
      "metadata": {
        "id": "PrATmNfN4t_x"
      },
      "source": [
        "#Remove previous versions of the uploaded excel file\n",
        "!rm 2021_sugar_syrup_data.xlsx"
      ],
      "execution_count": null,
      "outputs": []
    },
    {
      "cell_type": "code",
      "metadata": {
        "colab": {
          "resources": {
            "http://localhost:8080/nbextensions/google.colab/files.js": {
              "data": "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",
              "ok": true,
              "headers": [
                [
                  "content-type",
                  "application/javascript"
                ]
              ],
              "status": 200,
              "status_text": "OK"
            }
          },
          "base_uri": "https://localhost:8080/",
          "height": 73
        },
        "id": "h-O5sHre4t_x",
        "outputId": "ec844d64-cb9e-4a19-f71d-be2f561cfcba"
      },
      "source": [
        "#Uploading file from local drive ==> !rm file\n",
        "from google.colab import files\n",
        "uploaded1 = files.upload()"
      ],
      "execution_count": null,
      "outputs": [
        {
          "output_type": "display_data",
          "data": {
            "text/html": [
              "\n",
              "     <input type=\"file\" id=\"files-e16546a2-d06c-475f-b76d-4fc53e7c1ce3\" name=\"files[]\" multiple disabled\n",
              "        style=\"border:none\" />\n",
              "     <output id=\"result-e16546a2-d06c-475f-b76d-4fc53e7c1ce3\">\n",
              "      Upload widget is only available when the cell has been executed in the\n",
              "      current browser session. Please rerun this cell to enable.\n",
              "      </output>\n",
              "      <script src=\"/nbextensions/google.colab/files.js\"></script> "
            ],
            "text/plain": [
              "<IPython.core.display.HTML object>"
            ]
          },
          "metadata": {}
        },
        {
          "output_type": "stream",
          "name": "stdout",
          "text": [
            "Saving 2021_sugar_syrup_data.xlsx to 2021_sugar_syrup_data.xlsx\n"
          ]
        }
      ]
    },
    {
      "cell_type": "code",
      "metadata": {
        "id": "tb9f3E6k4t_z"
      },
      "source": [
        "#Storing dataset in a Pandas Dataframe\n",
        "import io\n",
        "df1 = pd.read_excel(io.BytesIO(uploaded1['2021_sugar_syrup_data.xlsx']))"
      ],
      "execution_count": null,
      "outputs": []
    },
    {
      "cell_type": "code",
      "metadata": {
        "colab": {
          "base_uri": "https://localhost:8080/"
        },
        "id": "NW_Z2P-Q5rwr",
        "outputId": "1f030782-d2fa-4050-cc80-a2524abbc205"
      },
      "source": [
        "#Checking the dataframe info\n",
        "df1.info()"
      ],
      "execution_count": null,
      "outputs": [
        {
          "output_type": "stream",
          "name": "stdout",
          "text": [
            "<class 'pandas.core.frame.DataFrame'>\n",
            "RangeIndex: 92 entries, 0 to 91\n",
            "Data columns (total 6 columns):\n",
            " #   Column           Non-Null Count  Dtype         \n",
            "---  ------           --------------  -----         \n",
            " 0   Event            92 non-null     datetime64[ns]\n",
            " 1   Year             92 non-null     int64         \n",
            " 2   Month            92 non-null     object        \n",
            " 3   Weeknum          92 non-null     int64         \n",
            " 4   Weekday          92 non-null     object        \n",
            " 5   Driamix_varming  92 non-null     int64         \n",
            "dtypes: datetime64[ns](1), int64(3), object(2)\n",
            "memory usage: 4.4+ KB\n"
          ]
        }
      ]
    },
    {
      "cell_type": "markdown",
      "metadata": {
        "id": "YEfvf6m150Vl"
      },
      "source": [
        "##Data manipulation"
      ]
    },
    {
      "cell_type": "code",
      "metadata": {
        "colab": {
          "base_uri": "https://localhost:8080/",
          "height": 142
        },
        "id": "r8596vpZ51fo",
        "outputId": "5ee50dd0-b987-4f08-b64d-948ccc2f1222"
      },
      "source": [
        "#Creating categorical values for multi-variate analysis\n",
        "df1 = df1.assign(Team = np.where((df1['Event'].dt.day)<25, 'Team_1', 'Team_2'),\n",
        "                 Shift = np.where((df1['Event'].dt.hour)<12, 'Day', 'Afternoon'),\n",
        "                 Hour = df1['Event'].dt.hour)\n",
        "df1.head(3)"
      ],
      "execution_count": null,
      "outputs": [
        {
          "output_type": "execute_result",
          "data": {
            "text/html": [
              "<div>\n",
              "<style scoped>\n",
              "    .dataframe tbody tr th:only-of-type {\n",
              "        vertical-align: middle;\n",
              "    }\n",
              "\n",
              "    .dataframe tbody tr th {\n",
              "        vertical-align: top;\n",
              "    }\n",
              "\n",
              "    .dataframe thead th {\n",
              "        text-align: right;\n",
              "    }\n",
              "</style>\n",
              "<table border=\"1\" class=\"dataframe\">\n",
              "  <thead>\n",
              "    <tr style=\"text-align: right;\">\n",
              "      <th></th>\n",
              "      <th>Event</th>\n",
              "      <th>Year</th>\n",
              "      <th>Month</th>\n",
              "      <th>Weeknum</th>\n",
              "      <th>Weekday</th>\n",
              "      <th>Driamix_varming</th>\n",
              "      <th>Team</th>\n",
              "      <th>Shift</th>\n",
              "      <th>Hour</th>\n",
              "    </tr>\n",
              "  </thead>\n",
              "  <tbody>\n",
              "    <tr>\n",
              "      <th>0</th>\n",
              "      <td>2021-10-17 08:00:00</td>\n",
              "      <td>2021</td>\n",
              "      <td>October</td>\n",
              "      <td>41</td>\n",
              "      <td>Sunday</td>\n",
              "      <td>86</td>\n",
              "      <td>Team_1</td>\n",
              "      <td>Day</td>\n",
              "      <td>8</td>\n",
              "    </tr>\n",
              "    <tr>\n",
              "      <th>1</th>\n",
              "      <td>2021-10-17 09:00:00</td>\n",
              "      <td>2021</td>\n",
              "      <td>October</td>\n",
              "      <td>41</td>\n",
              "      <td>Sunday</td>\n",
              "      <td>88</td>\n",
              "      <td>Team_1</td>\n",
              "      <td>Day</td>\n",
              "      <td>9</td>\n",
              "    </tr>\n",
              "    <tr>\n",
              "      <th>2</th>\n",
              "      <td>2021-10-17 09:30:00</td>\n",
              "      <td>2021</td>\n",
              "      <td>October</td>\n",
              "      <td>41</td>\n",
              "      <td>Sunday</td>\n",
              "      <td>86</td>\n",
              "      <td>Team_1</td>\n",
              "      <td>Day</td>\n",
              "      <td>9</td>\n",
              "    </tr>\n",
              "  </tbody>\n",
              "</table>\n",
              "</div>"
            ],
            "text/plain": [
              "                Event  Year    Month  ...    Team Shift  Hour\n",
              "0 2021-10-17 08:00:00  2021  October  ...  Team_1   Day     8\n",
              "1 2021-10-17 09:00:00  2021  October  ...  Team_1   Day     9\n",
              "2 2021-10-17 09:30:00  2021  October  ...  Team_1   Day     9\n",
              "\n",
              "[3 rows x 9 columns]"
            ]
          },
          "metadata": {},
          "execution_count": 16
        }
      ]
    },
    {
      "cell_type": "markdown",
      "metadata": {
        "id": "qr5kKWqC8P1r"
      },
      "source": [
        "##Multi-variate Analysis"
      ]
    },
    {
      "cell_type": "code",
      "metadata": {
        "colab": {
          "base_uri": "https://localhost:8080/"
        },
        "id": "VgxJlMyt8TJC",
        "outputId": "269f3536-51d1-460e-e28c-0a8c8dbf9d0c"
      },
      "source": [
        "#Creating list of categories\n",
        "var_list = ['Month', 'Weeknum', 'Weekday', 'Team', 'Shift', 'Hour']\n",
        "var_list"
      ],
      "execution_count": null,
      "outputs": [
        {
          "output_type": "execute_result",
          "data": {
            "text/plain": [
              "['Month', 'Weeknum', 'Weekday', 'Team', 'Shift', 'Hour']"
            ]
          },
          "metadata": {},
          "execution_count": 24
        }
      ]
    },
    {
      "cell_type": "code",
      "metadata": {
        "colab": {
          "base_uri": "https://localhost:8080/",
          "height": 142,
          "referenced_widgets": [
            "fb0dbdb66dd44918b8e65026a4c4aa20",
            "d0c2a2a2fcb84ee29de9a7cfe0ada54c",
            "3eff510f18f44d09be842cb7b3887106",
            "731858aacd96415f9772698c44fca0ea",
            "3ec77010772b49f480bf858e0de28607",
            "5ba2471f1e624632bdeaec115bb63e23",
            "9a3b02cbdf9d43088e932194d31e40f2"
          ]
        },
        "id": "z43wyXzkAC5H",
        "outputId": "5ba12e83-63c8-4128-b2f7-210389a6d1d7"
      },
      "source": [
        "#Inspecting the proportion of data for different categories\n",
        "@interact(Cat=var_list)\n",
        "def proportion(Cat):\n",
        "  return df1.value_counts(subset=Cat, normalize=True).reset_index(name='Proportion')"
      ],
      "execution_count": null,
      "outputs": [
        {
          "output_type": "display_data",
          "data": {
            "application/vnd.jupyter.widget-view+json": {
              "model_id": "fb0dbdb66dd44918b8e65026a4c4aa20",
              "version_minor": 0,
              "version_major": 2
            },
            "text/plain": [
              "interactive(children=(Dropdown(description='Cat', options=('Month', 'Weeknum', 'Weekday', 'Team', 'Shift', 'Ho…"
            ]
          },
          "metadata": {}
        }
      ]
    },
    {
      "cell_type": "code",
      "metadata": {
        "colab": {
          "base_uri": "https://localhost:8080/",
          "height": 365,
          "referenced_widgets": [
            "892c795380974c0b9857512ad2e3e899",
            "bfd053a5034a43c7b2b308c895712363",
            "b54a93709c8e4d0594f5fcd942561fb9",
            "88077a425a874dcea9613fe80ceb9ba0",
            "7445309e3d15450baf3259fc94411354",
            "537a190826814823b2402eb6dbadd2df",
            "9aecc8a131f3419dac72dbe28b739178",
            "6fc89fd52bb4466d9b9662f1ce1e107c",
            "ddca2fda6d73467ab7fe5f9b7fc4b146",
            "7d2276b3ee5d427a815d9e42053ded78"
          ]
        },
        "id": "66CB6-N6-BSl",
        "outputId": "06412439-845d-4c0f-cd51-92469a109815"
      },
      "source": [
        "#Creating interactive visualization\n",
        "@interact(Cat=var_list, Shift=['Shift', 'Team', None])\n",
        "def plot_multi_variate(Cat, Shift):\n",
        "  sns.boxplot(x=Cat, y='Driamix_varming', data=df1, hue=Shift)\n",
        "  plt.title('Sugar Syrup Multi-variate Analysis')\n",
        "  plt.legend(bbox_to_anchor=(1.25, 1)) #==> Set legend outside the chart\n",
        "  plt.show()"
      ],
      "execution_count": null,
      "outputs": [
        {
          "output_type": "display_data",
          "data": {
            "application/vnd.jupyter.widget-view+json": {
              "model_id": "892c795380974c0b9857512ad2e3e899",
              "version_minor": 0,
              "version_major": 2
            },
            "text/plain": [
              "interactive(children=(Dropdown(description='Cat', options=('Month', 'Weeknum', 'Weekday', 'Team', 'Shift', 'Ho…"
            ]
          },
          "metadata": {}
        }
      ]
    },
    {
      "cell_type": "code",
      "metadata": {
        "colab": {
          "base_uri": "https://localhost:8080/",
          "height": 284
        },
        "id": "avYDf3FDGHAU",
        "outputId": "67c6de98-6b90-4344-c8ea-1f17601f98f3"
      },
      "source": [
        "#Plotting a scatter plot of the warming temperature\n",
        "sns.lineplot(x=df1.index, y='Driamix_varming', data=df6)\n",
        "plt.title('Sugar Syrup Temperature Variability')\n",
        "plt.show()"
      ],
      "execution_count": null,
      "outputs": [
        {
          "output_type": "display_data",
          "data": {
            "image/png": "[encoded data removed]",
            "text/plain": [
              "<Figure size 576x288 with 1 Axes>"
            ]
          },
          "metadata": {}
        }
      ]
    },
    {
      "cell_type": "code",
      "metadata": {
        "colab": {
          "base_uri": "https://localhost:8080/",
          "height": 377
        },
        "id": "6y4GuHCiGzmZ",
        "outputId": "a8d2abac-9c26-4ca2-d52a-e903855b8097"
      },
      "source": [
        "#Plotting the Cumulative Distribution Function of the warming temperature\n",
        "sns.displot(x='Driamix_varming', data=df1, kind='ecdf')\n",
        "plt.title('Cumulative Distribution Function of Temperature')\n",
        "plt.show()"
      ],
      "execution_count": null,
      "outputs": [
        {
          "output_type": "display_data",
          "data": {
            "image/png": "[encoded data removed]",
            "text/plain": [
              "<Figure size 360x360 with 1 Axes>"
            ]
          },
          "metadata": {}
        }
      ]
    },
    {
      "cell_type": "markdown",
      "metadata": {
        "id": "5EmIn-xqkHH6"
      },
      "source": [
        "#Packaging anomaly detection"
      ]
    },
    {
      "cell_type": "markdown",
      "metadata": {
        "id": "fTYnb-eOkHH6"
      },
      "source": [
        "## Uploading necessary packages"
      ]
    },
    {
      "cell_type": "code",
      "metadata": {
        "id": "xMxCMJPSkWuQ"
      },
      "source": [
        "#Upgrading Plotly\n",
        "!pip install plotly --upgrade"
      ],
      "execution_count": null,
      "outputs": []
    },
    {
      "cell_type": "code",
      "metadata": {
        "id": "yGGvZ6M_kHH7"
      },
      "source": [
        "#Uploading packages\n",
        "import pandas as pd\n",
        "import numpy as np\n",
        "import matplotlib.pyplot as plt\n",
        "import datetime\n",
        "import seaborn as sns\n",
        "import plotly.express as px\n",
        "from ipywidgets import interact"
      ],
      "execution_count": null,
      "outputs": []
    },
    {
      "cell_type": "code",
      "metadata": {
        "id": "O-hj382nkHH8"
      },
      "source": [
        "#Customizing data visualization styles\n",
        "sns.set_theme(rc = {'figure.figsize': (8, 5)})"
      ],
      "execution_count": null,
      "outputs": []
    },
    {
      "cell_type": "code",
      "metadata": {
        "id": "CUK407JOkHH8"
      },
      "source": [
        "#Remove previous versions of the uploaded excel file\n",
        "!rm 2021-11-29_12_5_anom.xlsx"
      ],
      "execution_count": null,
      "outputs": []
    },
    {
      "cell_type": "code",
      "metadata": {
        "id": "MRn_spxckHH9"
      },
      "source": [
        "#Uploading file from local drive\n",
        "from google.colab import files\n",
        "uploaded2 = files.upload()"
      ],
      "execution_count": null,
      "outputs": []
    },
    {
      "cell_type": "code",
      "metadata": {
        "id": "FFM-HBxMkHH_"
      },
      "source": [
        "#Storing dataset in a Pandas Dataframe\n",
        "import io\n",
        "df2 = pd.read_excel(io.BytesIO(uploaded2['2021-11-29_12_5_anom.xlsx']))"
      ],
      "execution_count": null,
      "outputs": []
    },
    {
      "cell_type": "code",
      "metadata": {
        "colab": {
          "base_uri": "https://localhost:8080/"
        },
        "id": "_3y_xWx2kHIA",
        "outputId": "959a3e81-b544-401a-c228-0d1c791961f8"
      },
      "source": [
        "#Checking the dataframe info\n",
        "df2.info()"
      ],
      "execution_count": null,
      "outputs": [
        {
          "output_type": "stream",
          "name": "stdout",
          "text": [
            "<class 'pandas.core.frame.DataFrame'>\n",
            "RangeIndex: 1208 entries, 0 to 1207\n",
            "Data columns (total 6 columns):\n",
            " #   Column  Non-Null Count  Dtype         \n",
            "---  ------  --------------  -----         \n",
            " 0   Time    1208 non-null   datetime64[ns]\n",
            " 1   Num     1208 non-null   int64         \n",
            " 2   Cat     1208 non-null   object        \n",
            " 3   Trial   1208 non-null   object        \n",
            " 4   Min     20 non-null     object        \n",
            " 5   Delta   20 non-null     datetime64[ns]\n",
            "dtypes: datetime64[ns](2), int64(1), object(3)\n",
            "memory usage: 56.8+ KB\n"
          ]
        }
      ]
    },
    {
      "cell_type": "code",
      "metadata": {
        "colab": {
          "base_uri": "https://localhost:8080/",
          "height": 81
        },
        "id": "xTfdCLzklsUI",
        "outputId": "1b6a3eb0-89d4-4c55-86c7-aa574e2dc505"
      },
      "source": [
        "#Checking the dataframe head\n",
        "df2.head(1)"
      ],
      "execution_count": null,
      "outputs": [
        {
          "output_type": "execute_result",
          "data": {
            "text/html": [
              "<div>\n",
              "<style scoped>\n",
              "    .dataframe tbody tr th:only-of-type {\n",
              "        vertical-align: middle;\n",
              "    }\n",
              "\n",
              "    .dataframe tbody tr th {\n",
              "        vertical-align: top;\n",
              "    }\n",
              "\n",
              "    .dataframe thead th {\n",
              "        text-align: right;\n",
              "    }\n",
              "</style>\n",
              "<table border=\"1\" class=\"dataframe\">\n",
              "  <thead>\n",
              "    <tr style=\"text-align: right;\">\n",
              "      <th></th>\n",
              "      <th>Time</th>\n",
              "      <th>Num</th>\n",
              "      <th>Cat</th>\n",
              "      <th>Trial</th>\n",
              "      <th>Min</th>\n",
              "      <th>Delta</th>\n",
              "    </tr>\n",
              "  </thead>\n",
              "  <tbody>\n",
              "    <tr>\n",
              "      <th>0</th>\n",
              "      <td>2021-11-29 12:30:11.277</td>\n",
              "      <td>0</td>\n",
              "      <td>Start</td>\n",
              "      <td>T1</td>\n",
              "      <td>00:00:21.700000</td>\n",
              "      <td>2021-11-29 00:00:21.700</td>\n",
              "    </tr>\n",
              "  </tbody>\n",
              "</table>\n",
              "</div>"
            ],
            "text/plain": [
              "                     Time  Num  ...              Min                   Delta\n",
              "0 2021-11-29 12:30:11.277    0  ...  00:00:21.700000 2021-11-29 00:00:21.700\n",
              "\n",
              "[1 rows x 6 columns]"
            ]
          },
          "metadata": {},
          "execution_count": 84
        }
      ]
    },
    {
      "cell_type": "markdown",
      "metadata": {
        "id": "7bP5Vdc6pnLx"
      },
      "source": [
        "##Data Visualization"
      ]
    },
    {
      "cell_type": "code",
      "metadata": {
        "colab": {
          "base_uri": "https://localhost:8080/",
          "height": 517
        },
        "id": "OGW4YeX1ppLE",
        "outputId": "0a66ef6c-5e34-48c1-9866-37479489a501"
      },
      "source": [
        "#Plotting the count of good pieces by trial number\n",
        "def plot_good_count():\n",
        "  df = df2[(df2['Cat']=='Good')].copy()\n",
        "  df = df.groupby(by=['Trial']).agg(count = ('Num', 'count')).reset_index()\n",
        "  x_orders = {'Trial': ['T1', 'T2', 'T3', 'T4', 'T5', 'T6', 'T7', 'T8', 'T9', 'T10']}\n",
        "  fig2_a = px.bar(data_frame=df, x='Trial', y='count', color='Trial',\n",
        "                  title=f'Good bags produced until failure', height=500, width=800,\n",
        "                  color_discrete_sequence=px.colors.qualitative.D3, category_orders=x_orders)\n",
        "  fig2_a.show()\n",
        "\n",
        "plot_good_count()"
      ],
      "execution_count": null,
      "outputs": [
        {
          "output_type": "display_data",
          "data": {
            "text/html": [
              "<html>\n",
              "<head><meta charset=\"utf-8\" /></head>\n",
              "<body>\n",
              "    <div>            <script src=\"https://cdnjs.cloudflare.com/ajax/libs/mathjax/2.7.5/MathJax.js?config=TeX-AMS-MML_SVG\"></script><script type=\"text/javascript\">if (window.MathJax) {MathJax.Hub.Config({SVG: {font: \"STIX-Web\"}});}</script>                <script type=\"text/javascript\">window.PlotlyConfig = {MathJaxConfig: 'local'};</script>\n",
              "        <script src=\"https://cdn.plot.ly/plotly-2.6.3.min.js\"></script>                <div id=\"428c28e7-2728-4167-9f13-438c403c66cf\" class=\"plotly-graph-div\" style=\"height:500px; width:800px;\"></div>            <script type=\"text/javascript\">                                    window.PLOTLYENV=window.PLOTLYENV || {};                                    if (document.getElementById(\"428c28e7-2728-4167-9f13-438c403c66cf\")) {                    Plotly.newPlot(                        \"428c28e7-2728-4167-9f13-438c403c66cf\",                        [{\"alignmentgroup\":\"True\",\"hovertemplate\":\"Trial=%{x}<br>count=%{y}<extra></extra>\",\"legendgroup\":\"T1\",\"marker\":{\"color\":\"#1F77B4\",\"pattern\":{\"shape\":\"\"}},\"name\":\"T1\",\"offsetgroup\":\"T1\",\"orientation\":\"v\",\"showlegend\":true,\"textposition\":\"auto\",\"x\":[\"T1\"],\"xaxis\":\"x\",\"y\":[137],\"yaxis\":\"y\",\"type\":\"bar\"},{\"alignmentgroup\":\"True\",\"hovertemplate\":\"Trial=%{x}<br>count=%{y}<extra></extra>\",\"legendgroup\":\"T2\",\"marker\":{\"color\":\"#FF7F0E\",\"pattern\":{\"shape\":\"\"}},\"name\":\"T2\",\"offsetgroup\":\"T2\",\"orientation\":\"v\",\"showlegend\":true,\"textposition\":\"auto\",\"x\":[\"T2\"],\"xaxis\":\"x\",\"y\":[178],\"yaxis\":\"y\",\"type\":\"bar\"},{\"alignmentgroup\":\"True\",\"hovertemplate\":\"Trial=%{x}<br>count=%{y}<extra></extra>\",\"legendgroup\":\"T3\",\"marker\":{\"color\":\"#2CA02C\",\"pattern\":{\"shape\":\"\"}},\"name\":\"T3\",\"offsetgroup\":\"T3\",\"orientation\":\"v\",\"showlegend\":true,\"textposition\":\"auto\",\"x\":[\"T3\"],\"xaxis\":\"x\",\"y\":[44],\"yaxis\":\"y\",\"type\":\"bar\"},{\"alignmentgroup\":\"True\",\"hovertemplate\":\"Trial=%{x}<br>count=%{y}<extra></extra>\",\"legendgroup\":\"T4\",\"marker\":{\"color\":\"#D62728\",\"pattern\":{\"shape\":\"\"}},\"name\":\"T4\",\"offsetgroup\":\"T4\",\"orientation\":\"v\",\"showlegend\":true,\"textposition\":\"auto\",\"x\":[\"T4\"],\"xaxis\":\"x\",\"y\":[70],\"yaxis\":\"y\",\"type\":\"bar\"},{\"alignmentgroup\":\"True\",\"hovertemplate\":\"Trial=%{x}<br>count=%{y}<extra></extra>\",\"legendgroup\":\"T5\",\"marker\":{\"color\":\"#9467BD\",\"pattern\":{\"shape\":\"\"}},\"name\":\"T5\",\"offsetgroup\":\"T5\",\"orientation\":\"v\",\"showlegend\":true,\"textposition\":\"auto\",\"x\":[\"T5\"],\"xaxis\":\"x\",\"y\":[276],\"yaxis\":\"y\",\"type\":\"bar\"},{\"alignmentgroup\":\"True\",\"hovertemplate\":\"Trial=%{x}<br>count=%{y}<extra></extra>\",\"legendgroup\":\"T6\",\"marker\":{\"color\":\"#8C564B\",\"pattern\":{\"shape\":\"\"}},\"name\":\"T6\",\"offsetgroup\":\"T6\",\"orientation\":\"v\",\"showlegend\":true,\"textposition\":\"auto\",\"x\":[\"T6\"],\"xaxis\":\"x\",\"y\":[83],\"yaxis\":\"y\",\"type\":\"bar\"},{\"alignmentgroup\":\"True\",\"hovertemplate\":\"Trial=%{x}<br>count=%{y}<extra></extra>\",\"legendgroup\":\"T7\",\"marker\":{\"color\":\"#E377C2\",\"pattern\":{\"shape\":\"\"}},\"name\":\"T7\",\"offsetgroup\":\"T7\",\"orientation\":\"v\",\"showlegend\":true,\"textposition\":\"auto\",\"x\":[\"T7\"],\"xaxis\":\"x\",\"y\":[218],\"yaxis\":\"y\",\"type\":\"bar\"},{\"alignmentgroup\":\"True\",\"hovertemplate\":\"Trial=%{x}<br>count=%{y}<extra></extra>\",\"legendgroup\":\"T8\",\"marker\":{\"color\":\"#7F7F7F\",\"pattern\":{\"shape\":\"\"}},\"name\":\"T8\",\"offsetgroup\":\"T8\",\"orientation\":\"v\",\"showlegend\":true,\"textposition\":\"auto\",\"x\":[\"T8\"],\"xaxis\":\"x\",\"y\":[65],\"yaxis\":\"y\",\"type\":\"bar\"},{\"alignmentgroup\":\"True\",\"hovertemplate\":\"Trial=%{x}<br>count=%{y}<extra></extra>\",\"legendgroup\":\"T9\",\"marker\":{\"color\":\"#BCBD22\",\"pattern\":{\"shape\":\"\"}},\"name\":\"T9\",\"offsetgroup\":\"T9\",\"orientation\":\"v\",\"showlegend\":true,\"textposition\":\"auto\",\"x\":[\"T9\"],\"xaxis\":\"x\",\"y\":[84],\"yaxis\":\"y\",\"type\":\"bar\"},{\"alignmentgroup\":\"True\",\"hovertemplate\":\"Trial=%{x}<br>count=%{y}<extra></extra>\",\"legendgroup\":\"T10\",\"marker\":{\"color\":\"#17BECF\",\"pattern\":{\"shape\":\"\"}},\"name\":\"T10\",\"offsetgroup\":\"T10\",\"orientation\":\"v\",\"showlegend\":true,\"textposition\":\"auto\",\"x\":[\"T10\"],\"xaxis\":\"x\",\"y\":[33],\"yaxis\":\"y\",\"type\":\"bar\"}],                        {\"template\":{\"data\":{\"bar\":[{\"error_x\":{\"color\":\"#2a3f5f\"},\"error_y\":{\"color\":\"#2a3f5f\"},\"marker\":{\"line\":{\"color\":\"#E5ECF6\",\"width\":0.5},\"pattern\":{\"fillmode\":\"overlay\",\"size\":10,\"solidity\":0.2}},\"type\":\"bar\"}],\"barpolar\":[{\"marker\":{\"line\":{\"color\":\"#E5ECF6\",\"width\":0.5},\"pattern\":{\"fillmode\":\"overlay\",\"size\":10,\"solidity\":0.2}},\"type\":\"barpolar\"}],\"carpet\":[{\"aaxis\":{\"endlinecolor\":\"#2a3f5f\",\"gridcolor\":\"white\",\"linecolor\":\"white\",\"minorgridcolor\":\"white\",\"startlinecolor\":\"#2a3f5f\"},\"baxis\":{\"endlinecolor\":\"#2a3f5f\",\"gridcolor\":\"white\",\"linecolor\":\"white\",\"minorgridcolor\":\"white\",\"startlinecolor\":\"#2a3f5f\"},\"type\":\"carpet\"}],\"choropleth\":[{\"colorbar\":{\"outlinewidth\":0,\"ticks\":\"\"},\"type\":\"choropleth\"}],\"contour\":[{\"colorbar\":{\"outlinewidth\":0,\"ticks\":\"\"},\"colorscale\":[[0.0,\"#0d0887\"],[0.1111111111111111,\"#46039f\"],[0.2222222222222222,\"#7201a8\"],[0.3333333333333333,\"#9c179e\"],[0.4444444444444444,\"#bd3786\"],[0.5555555555555556,\"#d8576b\"],[0.6666666666666666,\"#ed7953\"],[0.7777777777777778,\"#fb9f3a\"],[0.8888888888888888,\"#fdca26\"],[1.0,\"#f0f921\"]],\"type\":\"contour\"}],\"contourcarpet\":[{\"colorbar\":{\"outlinewidth\":0,\"ticks\":\"\"},\"type\":\"contourcarpet\"}],\"heatmap\":[{\"colorbar\":{\"outlinewidth\":0,\"ticks\":\"\"},\"colorscale\":[[0.0,\"#0d0887\"],[0.1111111111111111,\"#46039f\"],[0.2222222222222222,\"#7201a8\"],[0.3333333333333333,\"#9c179e\"],[0.4444444444444444,\"#bd3786\"],[0.5555555555555556,\"#d8576b\"],[0.6666666666666666,\"#ed7953\"],[0.7777777777777778,\"#fb9f3a\"],[0.8888888888888888,\"#fdca26\"],[1.0,\"#f0f921\"]],\"type\":\"heatmap\"}],\"heatmapgl\":[{\"colorbar\":{\"outlinewidth\":0,\"ticks\":\"\"},\"colorscale\":[[0.0,\"#0d0887\"],[0.1111111111111111,\"#46039f\"],[0.2222222222222222,\"#7201a8\"],[0.3333333333333333,\"#9c179e\"],[0.4444444444444444,\"#bd3786\"],[0.5555555555555556,\"#d8576b\"],[0.6666666666666666,\"#ed7953\"],[0.7777777777777778,\"#fb9f3a\"],[0.8888888888888888,\"#fdca26\"],[1.0,\"#f0f921\"]],\"type\":\"heatmapgl\"}],\"histogram\":[{\"marker\":{\"pattern\":{\"fillmode\":\"overlay\",\"size\":10,\"solidity\":0.2}},\"type\":\"histogram\"}],\"histogram2d\":[{\"colorbar\":{\"outlinewidth\":0,\"ticks\":\"\"},\"colorscale\":[[0.0,\"#0d0887\"],[0.1111111111111111,\"#46039f\"],[0.2222222222222222,\"#7201a8\"],[0.3333333333333333,\"#9c179e\"],[0.4444444444444444,\"#bd3786\"],[0.5555555555555556,\"#d8576b\"],[0.6666666666666666,\"#ed7953\"],[0.7777777777777778,\"#fb9f3a\"],[0.8888888888888888,\"#fdca26\"],[1.0,\"#f0f921\"]],\"type\":\"histogram2d\"}],\"histogram2dcontour\":[{\"colorbar\":{\"outlinewidth\":0,\"ticks\":\"\"},\"colorscale\":[[0.0,\"#0d0887\"],[0.1111111111111111,\"#46039f\"],[0.2222222222222222,\"#7201a8\"],[0.3333333333333333,\"#9c179e\"],[0.4444444444444444,\"#bd3786\"],[0.5555555555555556,\"#d8576b\"],[0.6666666666666666,\"#ed7953\"],[0.7777777777777778,\"#fb9f3a\"],[0.8888888888888888,\"#fdca26\"],[1.0,\"#f0f921\"]],\"type\":\"histogram2dcontour\"}],\"mesh3d\":[{\"colorbar\":{\"outlinewidth\":0,\"ticks\":\"\"},\"type\":\"mesh3d\"}],\"parcoords\":[{\"line\":{\"colorbar\":{\"outlinewidth\":0,\"ticks\":\"\"}},\"type\":\"parcoords\"}],\"pie\":[{\"automargin\":true,\"type\":\"pie\"}],\"scatter\":[{\"marker\":{\"colorbar\":{\"outlinewidth\":0,\"ticks\":\"\"}},\"type\":\"scatter\"}],\"scatter3d\":[{\"line\":{\"colorbar\":{\"outlinewidth\":0,\"ticks\":\"\"}},\"marker\":{\"colorbar\":{\"outlinewidth\":0,\"ticks\":\"\"}},\"type\":\"scatter3d\"}],\"scattercarpet\":[{\"marker\":{\"colorbar\":{\"outlinewidth\":0,\"ticks\":\"\"}},\"type\":\"scattercarpet\"}],\"scattergeo\":[{\"marker\":{\"colorbar\":{\"outlinewidth\":0,\"ticks\":\"\"}},\"type\":\"scattergeo\"}],\"scattergl\":[{\"marker\":{\"colorbar\":{\"outlinewidth\":0,\"ticks\":\"\"}},\"type\":\"scattergl\"}],\"scattermapbox\":[{\"marker\":{\"colorbar\":{\"outlinewidth\":0,\"ticks\":\"\"}},\"type\":\"scattermapbox\"}],\"scatterpolar\":[{\"marker\":{\"colorbar\":{\"outlinewidth\":0,\"ticks\":\"\"}},\"type\":\"scatterpolar\"}],\"scatterpolargl\":[{\"marker\":{\"colorbar\":{\"outlinewidth\":0,\"ticks\":\"\"}},\"type\":\"scatterpolargl\"}],\"scatterternary\":[{\"marker\":{\"colorbar\":{\"outlinewidth\":0,\"ticks\":\"\"}},\"type\":\"scatterternary\"}],\"surface\":[{\"colorbar\":{\"outlinewidth\":0,\"ticks\":\"\"},\"colorscale\":[[0.0,\"#0d0887\"],[0.1111111111111111,\"#46039f\"],[0.2222222222222222,\"#7201a8\"],[0.3333333333333333,\"#9c179e\"],[0.4444444444444444,\"#bd3786\"],[0.5555555555555556,\"#d8576b\"],[0.6666666666666666,\"#ed7953\"],[0.7777777777777778,\"#fb9f3a\"],[0.8888888888888888,\"#fdca26\"],[1.0,\"#f0f921\"]],\"type\":\"surface\"}],\"table\":[{\"cells\":{\"fill\":{\"color\":\"#EBF0F8\"},\"line\":{\"color\":\"white\"}},\"header\":{\"fill\":{\"color\":\"#C8D4E3\"},\"line\":{\"color\":\"white\"}},\"type\":\"table\"}]},\"layout\":{\"annotationdefaults\":{\"arrowcolor\":\"#2a3f5f\",\"arrowhead\":0,\"arrowwidth\":1},\"autotypenumbers\":\"strict\",\"coloraxis\":{\"colorbar\":{\"outlinewidth\":0,\"ticks\":\"\"}},\"colorscale\":{\"diverging\":[[0,\"#8e0152\"],[0.1,\"#c51b7d\"],[0.2,\"#de77ae\"],[0.3,\"#f1b6da\"],[0.4,\"#fde0ef\"],[0.5,\"#f7f7f7\"],[0.6,\"#e6f5d0\"],[0.7,\"#b8e186\"],[0.8,\"#7fbc41\"],[0.9,\"#4d9221\"],[1,\"#276419\"]],\"sequential\":[[0.0,\"#0d0887\"],[0.1111111111111111,\"#46039f\"],[0.2222222222222222,\"#7201a8\"],[0.3333333333333333,\"#9c179e\"],[0.4444444444444444,\"#bd3786\"],[0.5555555555555556,\"#d8576b\"],[0.6666666666666666,\"#ed7953\"],[0.7777777777777778,\"#fb9f3a\"],[0.8888888888888888,\"#fdca26\"],[1.0,\"#f0f921\"]],\"sequentialminus\":[[0.0,\"#0d0887\"],[0.1111111111111111,\"#46039f\"],[0.2222222222222222,\"#7201a8\"],[0.3333333333333333,\"#9c179e\"],[0.4444444444444444,\"#bd3786\"],[0.5555555555555556,\"#d8576b\"],[0.6666666666666666,\"#ed7953\"],[0.7777777777777778,\"#fb9f3a\"],[0.8888888888888888,\"#fdca26\"],[1.0,\"#f0f921\"]]},\"colorway\":[\"#636efa\",\"#EF553B\",\"#00cc96\",\"#ab63fa\",\"#FFA15A\",\"#19d3f3\",\"#FF6692\",\"#B6E880\",\"#FF97FF\",\"#FECB52\"],\"font\":{\"color\":\"#2a3f5f\"},\"geo\":{\"bgcolor\":\"white\",\"lakecolor\":\"white\",\"landcolor\":\"#E5ECF6\",\"showlakes\":true,\"showland\":true,\"subunitcolor\":\"white\"},\"hoverlabel\":{\"align\":\"left\"},\"hovermode\":\"closest\",\"mapbox\":{\"style\":\"light\"},\"paper_bgcolor\":\"white\",\"plot_bgcolor\":\"#E5ECF6\",\"polar\":{\"angularaxis\":{\"gridcolor\":\"white\",\"linecolor\":\"white\",\"ticks\":\"\"},\"bgcolor\":\"#E5ECF6\",\"radialaxis\":{\"gridcolor\":\"white\",\"linecolor\":\"white\",\"ticks\":\"\"}},\"scene\":{\"xaxis\":{\"backgroundcolor\":\"#E5ECF6\",\"gridcolor\":\"white\",\"gridwidth\":2,\"linecolor\":\"white\",\"showbackground\":true,\"ticks\":\"\",\"zerolinecolor\":\"white\"},\"yaxis\":{\"backgroundcolor\":\"#E5ECF6\",\"gridcolor\":\"white\",\"gridwidth\":2,\"linecolor\":\"white\",\"showbackground\":true,\"ticks\":\"\",\"zerolinecolor\":\"white\"},\"zaxis\":{\"backgroundcolor\":\"#E5ECF6\",\"gridcolor\":\"white\",\"gridwidth\":2,\"linecolor\":\"white\",\"showbackground\":true,\"ticks\":\"\",\"zerolinecolor\":\"white\"}},\"shapedefaults\":{\"line\":{\"color\":\"#2a3f5f\"}},\"ternary\":{\"aaxis\":{\"gridcolor\":\"white\",\"linecolor\":\"white\",\"ticks\":\"\"},\"baxis\":{\"gridcolor\":\"white\",\"linecolor\":\"white\",\"ticks\":\"\"},\"bgcolor\":\"#E5ECF6\",\"caxis\":{\"gridcolor\":\"white\",\"linecolor\":\"white\",\"ticks\":\"\"}},\"title\":{\"x\":0.05},\"xaxis\":{\"automargin\":true,\"gridcolor\":\"white\",\"linecolor\":\"white\",\"ticks\":\"\",\"title\":{\"standoff\":15},\"zerolinecolor\":\"white\",\"zerolinewidth\":2},\"yaxis\":{\"automargin\":true,\"gridcolor\":\"white\",\"linecolor\":\"white\",\"ticks\":\"\",\"title\":{\"standoff\":15},\"zerolinecolor\":\"white\",\"zerolinewidth\":2}}},\"xaxis\":{\"anchor\":\"y\",\"domain\":[0.0,1.0],\"title\":{\"text\":\"Trial\"},\"categoryorder\":\"array\",\"categoryarray\":[\"T1\",\"T2\",\"T3\",\"T4\",\"T5\",\"T6\",\"T7\",\"T8\",\"T9\",\"T10\"]},\"yaxis\":{\"anchor\":\"x\",\"domain\":[0.0,1.0],\"title\":{\"text\":\"count\"}},\"legend\":{\"title\":{\"text\":\"Trial\"},\"tracegroupgap\":0},\"title\":{\"text\":\"Good bags produced until failure\"},\"barmode\":\"relative\",\"height\":500,\"width\":800},                        {\"responsive\": true}                    ).then(function(){\n",
              "                            \n",
              "var gd = document.getElementById('428c28e7-2728-4167-9f13-438c403c66cf');\n",
              "var x = new MutationObserver(function (mutations, observer) {{\n",
              "        var display = window.getComputedStyle(gd).display;\n",
              "        if (!display || display === 'none') {{\n",
              "            console.log([gd, 'removed!']);\n",
              "            Plotly.purge(gd);\n",
              "            observer.disconnect();\n",
              "        }}\n",
              "}});\n",
              "\n",
              "// Listen for the removal of the full notebook cells\n",
              "var notebookContainer = gd.closest('#notebook-container');\n",
              "if (notebookContainer) {{\n",
              "    x.observe(notebookContainer, {childList: true});\n",
              "}}\n",
              "\n",
              "// Listen for the clearing of the current output cell\n",
              "var outputEl = gd.closest('.output');\n",
              "if (outputEl) {{\n",
              "    x.observe(outputEl, {childList: true});\n",
              "}}\n",
              "\n",
              "                        })                };                            </script>        </div>\n",
              "</body>\n",
              "</html>"
            ]
          },
          "metadata": {}
        }
      ]
    },
    {
      "cell_type": "code",
      "metadata": {
        "colab": {
          "base_uri": "https://localhost:8080/",
          "height": 517
        },
        "id": "S5jGjSHptTct",
        "outputId": "cf816337-7ad9-4fe2-9036-f1aea38bfb91"
      },
      "source": [
        "#Plotting the anomalies detected vs time\n",
        "def plot_anomaly_time():\n",
        "  df = df2[(df2['Cat']=='Good') | (df2['Cat']=='WFD')].copy()\n",
        "  fig2_b = px.scatter(data_frame=df, x='Time', y='Num', color='Cat',\n",
        "                  title=f'Anomaly detected vs time', height=500, width=800,\n",
        "                  color_discrete_sequence=px.colors.qualitative.D3)\n",
        "  fig2_b.update_yaxes(type='category')\n",
        "  fig2_b.show()\n",
        "\n",
        "plot_anomaly_time()"
      ],
      "execution_count": null,
      "outputs": [
        {
          "output_type": "display_data",
          "data": {
            "text/html": [
              "<html>\n",
              "<head><meta charset=\"utf-8\" /></head>\n",
              "<body>\n",
              "    <div>            <script src=\"https://cdnjs.cloudflare.com/ajax/libs/mathjax/2.7.5/MathJax.js?config=TeX-AMS-MML_SVG\"></script><script type=\"text/javascript\">if (window.MathJax) {MathJax.Hub.Config({SVG: {font: \"STIX-Web\"}});}</script>                <script type=\"text/javascript\">window.PlotlyConfig = {MathJaxConfig: 'local'};</script>\n",
              "        <script src=\"https://cdn.plot.ly/plotly-2.6.3.min.js\"></script>                <div id=\"3003832a-3581-4b51-a930-5c162b19ca95\" class=\"plotly-graph-div\" style=\"height:500px; width:800px;\"></div>            <script type=\"text/javascript\">                                    window.PLOTLYENV=window.PLOTLYENV || {};                                    if (document.getElementById(\"3003832a-3581-4b51-a930-5c162b19ca95\")) {                    Plotly.newPlot(                        \"3003832a-3581-4b51-a930-5c162b19ca95\",                        [{\"hovertemplate\":\"Cat=Good<br>Time=%{x}<br>Num=%{y}<extra></extra>\",\"legendgroup\":\"Good\",\"marker\":{\"color\":\"#1F77B4\",\"symbol\":\"circle\"},\"mode\":\"markers\",\"name\":\"Good\",\"showlegend\":true,\"x\":[\"2021-11-29T12:30:12.014000\",\"2021-11-29T12:30:12.405000\",\"2021-11-29T12:30:13.148000\",\"2021-11-29T12:30:13.978000\",\"2021-11-29T12:30:14.672000\",\"2021-11-29T12:30:15.408000\",\"2021-11-29T12:30:16.332000\",\"2021-11-29T12:30:17.148000\",\"2021-11-29T12:30:17.962000\",\"2021-11-29T12:30:18.720000\",\"2021-11-29T12:30:19.556000\",\"2021-11-29T12:30:20.379000\",\"2021-11-29T12:30:21.223000\",\"2021-11-29T12:30:21.988000\",\"2021-11-29T12:30:22.717000\",\"2021-11-29T12:30:23.535000\",\"2021-11-29T12:30:24.291000\",\"2021-11-29T12:30:25.107000\",\"2021-11-29T12:30:25.908000\",\"2021-11-29T12:30:26.738000\",\"2021-11-29T12:30:27.489000\",\"2021-11-29T12:30:28.298000\",\"2021-11-29T12:30:30.890000\",\"2021-11-29T12:30:31.627000\",\"2021-11-29T12:30:32.709000\",\"2021-11-29T12:30:33.942000\",\"2021-11-29T12:30:34.794000\",\"2021-11-29T12:30:35.602000\",\"2021-11-29T12:30:36.368000\",\"2021-11-29T12:30:37.162000\",\"2021-11-29T12:30:37.949000\",\"2021-11-29T12:30:38.713000\",\"2021-11-29T12:30:39.572000\",\"2021-11-29T12:30:40.374000\",\"2021-11-29T12:30:41.175000\",\"2021-11-29T12:30:41.963000\",\"2021-11-29T12:30:42.735000\",\"2021-11-29T12:30:43.537000\",\"2021-11-29T12:30:44.310000\",\"2021-11-29T12:30:45.164000\",\"2021-11-29T12:30:45.965000\",\"2021-11-29T12:30:46.708000\",\"2021-11-29T12:30:47.503000\",\"2021-11-29T12:30:48.313000\",\"2021-11-29T12:30:49.121000\",\"2021-11-29T12:30:49.895000\",\"2021-11-29T12:30:50.717000\",\"2021-11-29T12:30:51.504000\",\"2021-11-29T12:30:52.328000\",\"2021-11-29T12:30:53.122000\",\"2021-11-29T12:30:53.945000\",\"2021-11-29T12:30:54.717000\",\"2021-11-29T12:30:55.548000\",\"2021-11-29T12:30:56.343000\",\"2021-11-29T12:30:57.145000\",\"2021-11-29T12:30:57.924000\",\"2021-11-29T12:30:58.703000\",\"2021-11-29T12:30:59.506000\",\"2021-11-29T12:31:00.344000\",\"2021-11-29T12:31:01.129000\",\"2021-11-29T12:31:01.909000\",\"2021-11-29T12:31:02.704000\",\"2021-11-29T12:31:03.506000\",\"2021-11-29T12:31:04.328000\",\"2021-11-29T12:31:05.137000\",\"2021-11-29T12:31:05.917000\",\"2021-11-29T12:31:06.742000\",\"2021-11-29T12:31:07.534000\",\"2021-11-29T12:31:08.336000\",\"2021-11-29T12:31:09.159000\",\"2021-11-29T12:31:09.938000\",\"2021-11-29T12:31:10.733000\",\"2021-11-29T12:31:11.563000\",\"2021-11-29T12:31:12.379000\",\"2021-11-29T12:31:13.209000\",\"2021-11-29T12:31:14.011000\",\"2021-11-29T12:31:14.812000\",\"2021-11-29T12:31:15.555000\",\"2021-11-29T12:31:16.379000\",\"2021-11-29T12:31:17.216000\",\"2021-11-29T12:31:17.960000\",\"2021-11-29T12:31:18.725000\",\"2021-11-29T12:31:19.520000\",\"2021-11-29T12:31:20.329000\",\"2021-11-29T12:31:21.108000\",\"2021-11-29T12:31:21.923000\",\"2021-11-29T12:31:22.747000\",\"2021-11-29T12:31:23.521000\",\"2021-11-29T12:31:24.300000\",\"2021-11-29T12:31:25.094000\",\"2021-11-29T12:31:25.888000\",\"2021-11-29T12:31:26.676000\",\"2021-11-29T12:31:27.542000\",\"2021-11-29T12:31:28.314000\",\"2021-11-29T12:31:29.152000\",\"2021-11-29T12:31:29.919000\",\"2021-11-29T12:31:30.719000\",\"2021-11-29T12:31:31.564000\",\"2021-11-29T12:31:32.330000\",\"2021-11-29T12:31:33.051000\",\"2021-11-29T12:31:33.860000\",\"2021-11-29T12:31:34.703000\",\"2021-11-29T12:31:35.498000\",\"2021-11-29T12:31:36.269000\",\"2021-11-29T12:31:37.086000\",\"2021-11-29T12:31:37.858000\",\"2021-11-29T12:31:38.651000\",\"2021-11-29T12:31:39.437000\",\"2021-11-29T12:31:40.296000\",\"2021-11-29T12:31:41.112000\",\"2021-11-29T12:31:41.940000\",\"2021-11-29T12:31:42.721000\",\"2021-11-29T12:31:43.557000\",\"2021-11-29T12:31:44.366000\",\"2021-11-29T12:31:45.160000\",\"2021-11-29T12:31:46.062000\",\"2021-11-29T12:31:47.556000\",\"2021-11-29T12:31:48.386000\",\"2021-11-29T12:31:49.223000\",\"2021-11-29T12:31:49.954000\",\"2021-11-29T12:31:50.784000\",\"2021-11-29T12:31:51.557000\",\"2021-11-29T12:31:52.330000\",\"2021-11-29T12:31:53.167000\",\"2021-11-29T12:31:53.925000\",\"2021-11-29T12:31:54.784000\",\"2021-11-29T12:31:55.578000\",\"2021-11-29T12:31:56.365000\",\"2021-11-29T12:31:57.080000\",\"2021-11-29T12:31:57.927000\",\"2021-11-29T12:31:58.771000\",\"2021-11-29T12:31:59.522000\",\"2021-11-29T12:32:00.345000\",\"2021-11-29T12:32:01.226000\",\"2021-11-29T12:32:02.005000\",\"2021-11-29T12:32:02.879000\",\"2021-11-29T12:32:03.694000\",\"2021-11-29T12:32:16.955000\",\"2021-11-29T12:32:17.915000\",\"2021-11-29T12:32:18.788000\",\"2021-11-29T12:32:19.539000\",\"2021-11-29T12:32:20.355000\",\"2021-11-29T12:32:21.178000\",\"2021-11-29T12:32:22.030000\",\"2021-11-29T12:32:22.708000\",\"2021-11-29T12:32:23.531000\",\"2021-11-29T12:32:24.362000\",\"2021-11-29T12:32:25.163000\",\"2021-11-29T12:32:26.001000\",\"2021-11-29T12:32:26.809000\",\"2021-11-29T12:32:27.589000\",\"2021-11-29T12:32:28.412000\",\"2021-11-29T12:32:29.206000\",\"2021-11-29T12:32:29.988000\",\"2021-11-29T12:32:30.751000\",\"2021-11-29T12:32:31.582000\",\"2021-11-29T12:32:32.385000\",\"2021-11-29T12:32:33.143000\",\"2021-11-29T12:32:33.973000\",\"2021-11-29T12:32:34.824000\",\"2021-11-29T12:32:36.299000\",\"2021-11-29T12:32:37.150000\",\"2021-11-29T12:32:37.972000\",\"2021-11-29T12:32:38.809000\",\"2021-11-29T12:32:39.582000\",\"2021-11-29T12:32:40.361000\",\"2021-11-29T12:32:41.204000\",\"2021-11-29T12:32:42.035000\",\"2021-11-29T12:32:42.849000\",\"2021-11-29T12:32:43.651000\",\"2021-11-29T12:32:44.401000\",\"2021-11-29T12:32:45.172000\",\"2021-11-29T12:32:46.032000\",\"2021-11-29T12:32:46.753000\",\"2021-11-29T12:32:47.510000\",\"2021-11-29T12:32:48.303000\",\"2021-11-29T12:32:49.133000\",\"2021-11-29T12:32:49.919000\",\"2021-11-29T12:32:51.600000\",\"2021-11-29T12:32:52.372000\",\"2021-11-29T12:32:53.130000\",\"2021-11-29T12:32:53.967000\",\"2021-11-29T12:32:54.783000\",\"2021-11-29T12:32:55.565000\",\"2021-11-29T12:32:56.379000\",\"2021-11-29T12:32:57.137000\",\"2021-11-29T12:32:57.903000\",\"2021-11-29T12:32:58.726000\",\"2021-11-29T12:32:59.543000\",\"2021-11-29T12:33:00.351000\",\"2021-11-29T12:33:01.139000\",\"2021-11-29T12:33:01.941000\",\"2021-11-29T12:33:02.677000\",\"2021-11-29T12:33:03.508000\",\"2021-11-29T12:33:04.316000\",\"2021-11-29T12:33:05.160000\",\"2021-11-29T12:33:05.947000\",\"2021-11-29T12:33:06.721000\",\"2021-11-29T12:33:07.507000\",\"2021-11-29T12:33:08.352000\",\"2021-11-29T12:33:09.109000\",\"2021-11-29T12:33:09.953000\",\"2021-11-29T12:33:10.769000\",\"2021-11-29T12:33:11.519000\",\"2021-11-29T12:33:13.136000\",\"2021-11-29T12:33:13.965000\",\"2021-11-29T12:33:14.760000\",\"2021-11-29T12:33:15.618000\",\"2021-11-29T12:33:16.341000\",\"2021-11-29T12:33:17.112000\",\"2021-11-29T12:33:17.943000\",\"2021-11-29T12:33:18.736000\",\"2021-11-29T12:33:19.523000\",\"2021-11-29T12:33:20.353000\",\"2021-11-29T12:33:21.168000\",\"2021-11-29T12:33:21.912000\",\"2021-11-29T12:33:22.793000\",\"2021-11-29T12:33:23.586000\",\"2021-11-29T12:33:24.352000\",\"2021-11-29T12:33:25.145000\",\"2021-11-29T12:33:25.932000\",\"2021-11-29T12:33:26.754000\",\"2021-11-29T12:33:27.542000\",\"2021-11-29T12:33:28.322000\",\"2021-11-29T12:33:29.116000\",\"2021-11-29T12:33:29.974000\",\"2021-11-29T12:33:30.768000\",\"2021-11-29T12:33:31.562000\",\"2021-11-29T12:33:32.354000\",\"2021-11-29T12:33:33.141000\",\"2021-11-29T12:33:33.936000\",\"2021-11-29T12:33:34.722000\",\"2021-11-29T12:33:35.560000\",\"2021-11-29T12:33:36.355000\",\"2021-11-29T12:33:37.163000\",\"2021-11-29T12:33:38.014000\",\"2021-11-29T12:33:38.772000\",\"2021-11-29T12:33:39.501000\",\"2021-11-29T12:33:40.294000\",\"2021-11-29T12:33:41.133000\",\"2021-11-29T12:33:41.954000\",\"2021-11-29T12:33:42.736000\",\"2021-11-29T12:33:43.494000\",\"2021-11-29T12:33:44.280000\",\"2021-11-29T12:33:45.054000\",\"2021-11-29T12:33:45.848000\",\"2021-11-29T12:33:46.656000\",\"2021-11-29T12:33:47.502000\",\"2021-11-29T12:33:48.337000\",\"2021-11-29T12:33:49.045000\",\"2021-11-29T12:33:49.853000\",\"2021-11-29T12:33:50.755000\",\"2021-11-29T12:33:51.599000\",\"2021-11-29T12:33:52.292000\",\"2021-11-29T12:33:53.101000\",\"2021-11-29T12:33:53.894000\",\"2021-11-29T12:33:54.724000\",\"2021-11-29T12:33:55.519000\",\"2021-11-29T12:33:56.357000\",\"2021-11-29T12:33:57.099000\",\"2021-11-29T12:33:57.973000\",\"2021-11-29T12:33:58.717000\",\"2021-11-29T12:33:59.539000\",\"2021-11-29T12:34:00.311000\",\"2021-11-29T12:34:01.155000\",\"2021-11-29T12:34:01.965000\",\"2021-11-29T12:34:02.730000\",\"2021-11-29T12:34:03.566000\",\"2021-11-29T12:34:04.331000\",\"2021-11-29T12:34:05.205000\",\"2021-11-29T12:34:05.947000\",\"2021-11-29T12:34:06.733000\",\"2021-11-29T12:34:07.527000\",\"2021-11-29T12:34:08.371000\",\"2021-11-29T12:34:09.130000\",\"2021-11-29T12:34:09.944000\",\"2021-11-29T12:34:10.738000\",\"2021-11-29T12:34:11.451000\",\"2021-11-29T12:34:12.237000\",\"2021-11-29T12:34:13.080000\",\"2021-11-29T12:34:14.740000\",\"2021-11-29T12:34:16.291000\",\"2021-11-29T12:34:17.178000\",\"2021-11-29T12:34:17.987000\",\"2021-11-29T12:34:18.745000\",\"2021-11-29T12:34:19.501000\",\"2021-11-29T12:34:20.281000\",\"2021-11-29T12:34:21.074000\",\"2021-11-29T12:34:21.867000\",\"2021-11-29T12:34:22.674000\",\"2021-11-29T12:34:23.483000\",\"2021-11-29T12:34:24.254000\",\"2021-11-29T12:34:25.084000\",\"2021-11-29T12:34:25.899000\",\"2021-11-29T12:34:26.663000\",\"2021-11-29T12:34:27.471000\",\"2021-11-29T12:34:28.251000\",\"2021-11-29T12:34:29.043000\",\"2021-11-29T12:34:29.865000\",\"2021-11-29T12:34:30.694000\",\"2021-11-29T12:34:31.473000\",\"2021-11-29T12:34:32.252000\",\"2021-11-29T12:34:33.124000\",\"2021-11-29T12:34:33.888000\",\"2021-11-29T12:34:34.659000\",\"2021-11-29T12:34:35.467000\",\"2021-11-29T12:34:36.246000\",\"2021-11-29T12:34:37.082000\",\"2021-11-29T12:34:37.904000\",\"2021-11-29T12:34:38.682000\",\"2021-11-29T12:34:39.512000\",\"2021-11-29T12:34:40.327000\",\"2021-11-29T12:34:41.128000\",\"2021-11-29T12:34:41.922000\",\"2021-11-29T12:34:42.730000\",\"2021-11-29T12:35:14.499000\",\"2021-11-29T12:35:15.328000\",\"2021-11-29T12:35:16.181000\",\"2021-11-29T12:35:17.226000\",\"2021-11-29T12:35:18.618000\",\"2021-11-29T12:35:19.526000\",\"2021-11-29T12:35:20.371000\",\"2021-11-29T12:35:21.143000\",\"2021-11-29T12:35:21.979000\",\"2021-11-29T12:35:22.781000\",\"2021-11-29T12:35:23.517000\",\"2021-11-29T12:35:24.312000\",\"2021-11-29T12:35:25.126000\",\"2021-11-29T12:35:25.884000\",\"2021-11-29T12:35:26.771000\",\"2021-11-29T12:35:27.558000\",\"2021-11-29T12:35:28.336000\",\"2021-11-29T12:35:29.101000\",\"2021-11-29T12:35:29.909000\",\"2021-11-29T12:35:30.694000\",\"2021-11-29T12:35:31.488000\",\"2021-11-29T12:35:32.290000\",\"2021-11-29T12:35:33.076000\",\"2021-11-29T12:35:33.893000\",\"2021-11-29T12:35:34.700000\",\"2021-11-29T12:35:35.459000\",\"2021-11-29T12:35:36.273000\",\"2021-11-29T12:35:37.038000\",\"2021-11-29T12:35:37.839000\",\"2021-11-29T12:35:38.691000\",\"2021-11-29T12:35:39.484000\",\"2021-11-29T12:35:40.277000\",\"2021-11-29T12:35:41.107000\",\"2021-11-29T12:35:41.908000\",\"2021-11-29T12:35:42.703000\",\"2021-11-29T12:35:43.488000\",\"2021-11-29T12:35:44.275000\",\"2021-11-29T12:35:45.126000\",\"2021-11-29T12:35:45.956000\",\"2021-11-29T12:35:46.773000\",\"2021-11-29T12:35:47.551000\",\"2021-11-29T12:35:48.352000\",\"2021-11-29T12:35:49.160000\",\"2021-11-29T12:35:50.213000\",\"2021-11-29T12:35:59.574000\",\"2021-11-29T12:36:00.389000\",\"2021-11-29T12:36:01.197000\",\"2021-11-29T12:36:02.041000\",\"2021-11-29T12:36:04.392000\",\"2021-11-29T12:36:05.295000\",\"2021-11-29T12:36:06.074000\",\"2021-11-29T12:36:06.918000\",\"2021-11-29T12:36:07.546000\",\"2021-11-29T12:36:09.169000\",\"2021-11-29T12:36:09.986000\",\"2021-11-29T12:36:10.765000\",\"2021-11-29T12:36:11.587000\",\"2021-11-29T12:36:12.366000\",\"2021-11-29T12:36:13.133000\",\"2021-11-29T12:36:13.984000\",\"2021-11-29T12:36:14.756000\",\"2021-11-29T12:36:15.601000\",\"2021-11-29T12:36:16.331000\",\"2021-11-29T12:36:17.896000\",\"2021-11-29T12:36:18.727000\",\"2021-11-29T12:36:19.535000\",\"2021-11-29T12:36:20.331000\",\"2021-11-29T12:36:21.116000\",\"2021-11-29T12:36:21.938000\",\"2021-11-29T12:36:22.759000\",\"2021-11-29T12:36:23.560000\",\"2021-11-29T12:36:25.104000\",\"2021-11-29T12:36:25.934000\",\"2021-11-29T12:36:26.734000\",\"2021-11-29T12:36:27.527000\",\"2021-11-29T12:36:28.392000\",\"2021-11-29T12:36:29.214000\",\"2021-11-29T12:36:29.958000\",\"2021-11-29T12:36:30.773000\",\"2021-11-29T12:36:31.457000\",\"2021-11-29T12:36:32.430000\",\"2021-11-29T12:36:35.588000\",\"2021-11-29T12:36:36.388000\",\"2021-11-29T12:36:37.160000\",\"2021-11-29T12:36:37.923000\",\"2021-11-29T12:36:38.710000\",\"2021-11-29T12:36:39.473000\",\"2021-11-29T12:36:40.265000\",\"2021-11-29T12:36:41.102000\",\"2021-11-29T12:36:41.976000\",\"2021-11-29T12:36:43.561000\",\"2021-11-29T12:36:44.347000\",\"2021-11-29T12:36:45.175000\",\"2021-11-29T12:36:45.939000\",\"2021-11-29T12:36:46.704000\",\"2021-11-29T12:36:47.483000\",\"2021-11-29T12:36:48.268000\",\"2021-11-29T12:36:49.068000\",\"2021-11-29T12:36:49.868000\",\"2021-11-29T12:36:50.697000\",\"2021-11-29T12:36:51.476000\",\"2021-11-29T12:36:52.342000\",\"2021-11-29T12:36:53.149000\",\"2021-11-29T12:36:53.956000\",\"2021-11-29T12:36:54.749000\",\"2021-11-29T12:36:55.551000\",\"2021-11-29T12:36:56.329000\",\"2021-11-29T12:36:57.173000\",\"2021-11-29T12:36:57.988000\",\"2021-11-29T12:36:58.824000\",\"2021-11-29T12:36:59.748000\",\"2021-11-29T12:37:00.766000\",\"2021-11-29T12:37:01.933000\",\"2021-11-29T12:37:03.023000\",\"2021-11-29T12:37:25.070000\",\"2021-11-29T12:37:25.862000\",\"2021-11-29T12:37:26.547000\",\"2021-11-29T12:37:27.419000\",\"2021-11-29T12:37:28.312000\",\"2021-11-29T12:37:29.092000\",\"2021-11-29T12:37:29.870000\",\"2021-11-29T12:37:30.743000\",\"2021-11-29T12:37:31.572000\",\"2021-11-29T12:37:32.337000\",\"2021-11-29T12:37:33.151000\",\"2021-11-29T12:37:33.959000\",\"2021-11-29T12:37:34.760000\",\"2021-11-29T12:37:35.598000\",\"2021-11-29T12:37:36.319000\",\"2021-11-29T12:37:37.040000\",\"2021-11-29T12:37:37.906000\",\"2021-11-29T12:37:38.692000\",\"2021-11-29T12:37:39.450000\",\"2021-11-29T12:37:40.242000\",\"2021-11-29T12:37:41.085000\",\"2021-11-29T12:37:41.921000\",\"2021-11-29T12:37:42.707000\",\"2021-11-29T12:37:43.514000\",\"2021-11-29T12:37:44.286000\",\"2021-11-29T12:37:45.086000\",\"2021-11-29T12:37:45.873000\",\"2021-11-29T12:37:46.725000\",\"2021-11-29T12:37:47.510000\",\"2021-11-29T12:37:48.331000\",\"2021-11-29T12:37:49.997000\",\"2021-11-29T12:37:50.804000\",\"2021-11-29T12:37:51.554000\",\"2021-11-29T12:37:52.332000\",\"2021-11-29T12:37:53.118000\",\"2021-11-29T12:37:53.919000\",\"2021-11-29T12:37:54.682000\",\"2021-11-29T12:37:55.489000\",\"2021-11-29T12:37:56.311000\",\"2021-11-29T12:37:57.111000\",\"2021-11-29T12:37:57.891000\",\"2021-11-29T12:37:58.741000\",\"2021-11-29T12:37:59.547000\",\"2021-11-29T12:38:00.361000\",\"2021-11-29T12:38:01.117000\",\"2021-11-29T12:38:01.931000\",\"2021-11-29T12:38:02.739000\",\"2021-11-29T12:38:03.532000\",\"2021-11-29T12:38:04.303000\",\"2021-11-29T12:38:05.132000\",\"2021-11-29T12:38:05.940000\",\"2021-11-29T12:38:06.769000\",\"2021-11-29T12:38:07.590000\",\"2021-11-29T12:38:08.354000\",\"2021-11-29T12:38:09.147000\",\"2021-11-29T12:38:09.940000\",\"2021-11-29T12:38:10.748000\",\"2021-11-29T12:38:11.556000\",\"2021-11-29T12:38:12.362000\",\"2021-11-29T12:38:13.148000\",\"2021-11-29T12:38:13.897000\",\"2021-11-29T12:38:14.718000\",\"2021-11-29T12:38:15.518000\",\"2021-11-29T12:38:16.312000\",\"2021-11-29T12:38:17.148000\",\"2021-11-29T12:38:18.012000\",\"2021-11-29T12:38:18.790000\",\"2021-11-29T12:38:19.591000\",\"2021-11-29T12:38:20.362000\",\"2021-11-29T12:38:20.477000\",\"2021-11-29T12:38:21.220000\",\"2021-11-29T12:38:21.934000\",\"2021-11-29T12:38:22.725000\",\"2021-11-29T12:38:23.619000\",\"2021-11-29T12:38:24.505000\",\"2021-11-29T12:38:25.378000\",\"2021-11-29T12:38:26.626000\",\"2021-11-29T12:38:27.635000\",\"2021-11-29T12:38:28.550000\",\"2021-11-29T12:38:29.704000\",\"2021-11-29T12:38:30.815000\",\"2021-11-29T12:38:31.701000\",\"2021-11-29T12:38:32.552000\",\"2021-11-29T12:38:33.213000\",\"2021-11-29T12:38:33.970000\",\"2021-11-29T12:38:34.821000\",\"2021-11-29T12:38:35.643000\",\"2021-11-29T12:38:36.493000\",\"2021-11-29T12:38:37.330000\",\"2021-11-29T12:38:38.015000\",\"2021-11-29T12:38:38.793000\",\"2021-11-29T12:38:39.550000\",\"2021-11-29T12:38:40.300000\",\"2021-11-29T12:38:41.108000\",\"2021-11-29T12:38:41.880000\",\"2021-11-29T12:38:42.680000\",\"2021-11-29T12:38:43.466000\",\"2021-11-29T12:38:44.289000\",\"2021-11-29T12:38:45.053000\",\"2021-11-29T12:38:45.840000\",\"2021-11-29T12:38:46.692000\",\"2021-11-29T12:38:47.529000\",\"2021-11-29T12:38:48.330000\",\"2021-11-29T12:38:49.138000\",\"2021-11-29T12:38:50.817000\",\"2021-11-29T12:38:52.354000\",\"2021-11-29T12:38:53.213000\",\"2021-11-29T12:38:54.006000\",\"2021-11-29T12:38:54.834000\",\"2021-11-29T12:38:55.606000\",\"2021-11-29T12:38:56.629000\",\"2021-11-29T12:38:57.242000\",\"2021-11-29T12:38:57.993000\",\"2021-11-29T12:38:58.756000\",\"2021-11-29T12:38:59.620000\",\"2021-11-29T12:39:00.377000\",\"2021-11-29T12:39:01.162000\",\"2021-11-29T12:39:01.970000\",\"2021-11-29T12:39:02.726000\",\"2021-11-29T12:39:03.505000\",\"2021-11-29T12:39:04.320000\",\"2021-11-29T12:39:05.135000\",\"2021-11-29T12:39:05.993000\",\"2021-11-29T12:39:06.713000\",\"2021-11-29T12:39:07.521000\",\"2021-11-29T12:39:08.328000\",\"2021-11-29T12:39:09.100000\",\"2021-11-29T12:39:09.915000\",\"2021-11-29T12:39:10.737000\",\"2021-11-29T12:39:11.487000\",\"2021-11-29T12:39:12.295000\",\"2021-11-29T12:39:13.139000\",\"2021-11-29T12:39:13.931000\",\"2021-11-29T12:39:14.723000\",\"2021-11-29T12:39:15.524000\",\"2021-11-29T12:39:16.338000\",\"2021-11-29T12:39:17.146000\",\"2021-11-29T12:39:17.960000\",\"2021-11-29T12:39:18.746000\",\"2021-11-29T12:39:19.561000\",\"2021-11-29T12:39:20.325000\",\"2021-11-29T12:39:21.081000\",\"2021-11-29T12:39:21.868000\",\"2021-11-29T12:39:22.688000\",\"2021-11-29T12:39:23.546000\",\"2021-11-29T12:39:24.361000\",\"2021-11-29T12:39:25.126000\",\"2021-11-29T12:39:25.889000\",\"2021-11-29T12:39:26.682000\",\"2021-11-29T12:39:27.469000\",\"2021-11-29T12:39:28.342000\",\"2021-11-29T12:39:29.149000\",\"2021-11-29T12:39:29.885000\",\"2021-11-29T12:39:30.676000\",\"2021-11-29T12:39:31.519000\",\"2021-11-29T12:39:32.377000\",\"2021-11-29T12:39:33.053000\",\"2021-11-29T12:39:33.884000\",\"2021-11-29T12:39:34.675000\",\"2021-11-29T12:39:35.512000\",\"2021-11-29T12:39:36.276000\",\"2021-11-29T12:39:37.055000\",\"2021-11-29T12:39:37.891000\",\"2021-11-29T12:39:38.750000\",\"2021-11-29T12:39:39.555000\",\"2021-11-29T12:39:40.377000\",\"2021-11-29T12:39:41.227000\",\"2021-11-29T12:39:41.940000\",\"2021-11-29T12:39:42.610000\",\"2021-11-29T12:39:43.511000\",\"2021-11-29T12:39:44.404000\",\"2021-11-29T12:39:45.110000\",\"2021-11-29T12:39:45.924000\",\"2021-11-29T12:39:46.688000\",\"2021-11-29T12:39:47.516000\",\"2021-11-29T12:39:48.260000\",\"2021-11-29T12:39:49.047000\",\"2021-11-29T12:39:49.846000\",\"2021-11-29T12:39:50.733000\",\"2021-11-29T12:39:51.526000\",\"2021-11-29T12:39:52.319000\",\"2021-11-29T12:39:53.083000\",\"2021-11-29T12:39:53.956000\",\"2021-11-29T12:39:54.756000\",\"2021-11-29T12:39:55.548000\",\"2021-11-29T12:39:56.341000\",\"2021-11-29T12:39:57.120000\",\"2021-11-29T12:39:57.884000\",\"2021-11-29T12:39:58.706000\",\"2021-11-29T12:39:59.549000\",\"2021-11-29T12:40:00.350000\",\"2021-11-29T12:40:01.122000\",\"2021-11-29T12:40:01.865000\",\"2021-11-29T12:40:02.701000\",\"2021-11-29T12:40:03.501000\",\"2021-11-29T12:40:04.302000\",\"2021-11-29T12:40:05.088000\",\"2021-11-29T12:40:05.938000\",\"2021-11-29T12:40:06.739000\",\"2021-11-29T12:40:07.533000\",\"2021-11-29T12:40:08.354000\",\"2021-11-29T12:40:09.140000\",\"2021-11-29T12:40:09.970000\",\"2021-11-29T12:40:10.755000\",\"2021-11-29T12:40:11.547000\",\"2021-11-29T12:40:12.361000\",\"2021-11-29T12:40:13.133000\",\"2021-11-29T12:40:13.926000\",\"2021-11-29T12:40:14.726000\",\"2021-11-29T12:40:15.511000\",\"2021-11-29T12:40:16.333000\",\"2021-11-29T12:40:17.153000\",\"2021-11-29T12:40:17.940000\",\"2021-11-29T12:40:18.710000\",\"2021-11-29T12:40:19.611000\",\"2021-11-29T12:40:20.462000\",\"2021-11-29T12:40:21.233000\",\"2021-11-29T12:40:21.940000\",\"2021-11-29T12:40:22.711000\",\"2021-11-29T12:40:23.534000\",\"2021-11-29T12:40:24.347000\",\"2021-11-29T12:40:25.125000\",\"2021-11-29T12:40:25.911000\",\"2021-11-29T12:40:26.777000\",\"2021-11-29T12:40:27.555000\",\"2021-11-29T12:40:28.305000\",\"2021-11-29T12:40:29.120000\",\"2021-11-29T12:40:29.928000\",\"2021-11-29T12:40:30.728000\",\"2021-11-29T12:40:31.471000\",\"2021-11-29T12:40:32.365000\",\"2021-11-29T12:40:33.128000\",\"2021-11-29T12:40:33.915000\",\"2021-11-29T12:40:34.721000\",\"2021-11-29T12:40:35.536000\",\"2021-11-29T12:40:36.337000\",\"2021-11-29T12:40:37.137000\",\"2021-11-29T12:40:37.892000\",\"2021-11-29T12:40:38.713000\",\"2021-11-29T12:40:39.499000\",\"2021-11-29T12:40:40.255000\",\"2021-11-29T12:40:41.041000\",\"2021-11-29T12:40:41.812000\",\"2021-11-29T12:40:42.619000\",\"2021-11-29T12:40:43.448000\",\"2021-11-29T12:40:44.255000\",\"2021-11-29T12:40:45.034000\",\"2021-11-29T12:40:45.850000\",\"2021-11-29T12:40:46.642000\",\"2021-11-29T12:40:47.471000\",\"2021-11-29T12:40:48.235000\",\"2021-11-29T12:40:49.066000\",\"2021-11-29T12:40:49.916000\",\"2021-11-29T12:40:50.707000\",\"2021-11-29T12:40:51.508000\",\"2021-11-29T12:40:52.265000\",\"2021-11-29T12:40:53.099000\",\"2021-11-29T12:40:53.935000\",\"2021-11-29T12:40:54.821000\",\"2021-11-29T12:40:55.564000\",\"2021-11-29T12:40:56.384000\",\"2021-11-29T12:40:57.156000\",\"2021-11-29T12:40:57.877000\",\"2021-11-29T12:40:58.776000\",\"2021-11-29T12:40:59.642000\",\"2021-11-29T12:41:00.456000\",\"2021-11-29T12:41:01.350000\",\"2021-11-29T12:41:01.940000\",\"2021-11-29T12:41:02.676000\",\"2021-11-29T12:41:03.446000\",\"2021-11-29T12:41:04.290000\",\"2021-11-29T12:41:05.054000\",\"2021-11-29T12:41:05.862000\",\"2021-11-29T12:41:06.667000\",\"2021-11-29T12:41:07.409000\",\"2021-11-29T12:41:08.274000\",\"2021-11-29T12:41:26.954000\",\"2021-11-29T12:41:27.631000\",\"2021-11-29T12:41:28.294000\",\"2021-11-29T12:41:29.023000\",\"2021-11-29T12:41:29.823000\",\"2021-11-29T12:41:30.629000\",\"2021-11-29T12:41:31.559000\",\"2021-11-29T12:41:32.337000\",\"2021-11-29T12:41:33.058000\",\"2021-11-29T12:41:33.851000\",\"2021-11-29T12:41:34.629000\",\"2021-11-29T12:41:35.502000\",\"2021-11-29T12:41:36.302000\",\"2021-11-29T12:41:37.101000\",\"2021-11-29T12:41:37.931000\",\"2021-11-29T12:41:38.746000\",\"2021-11-29T12:41:39.510000\",\"2021-11-29T12:41:40.295000\",\"2021-11-29T12:41:41.132000\",\"2021-11-29T12:41:41.873000\",\"2021-11-29T12:41:42.738000\",\"2021-11-29T12:41:43.647000\",\"2021-11-29T12:41:44.476000\",\"2021-11-29T12:41:45.219000\",\"2021-11-29T12:41:45.947000\",\"2021-11-29T12:41:46.732000\",\"2021-11-29T12:41:47.519000\",\"2021-11-29T12:41:48.355000\",\"2021-11-29T12:41:49.098000\",\"2021-11-29T12:41:49.869000\",\"2021-11-29T12:41:50.635000\",\"2021-11-29T12:41:51.486000\",\"2021-11-29T12:41:52.266000\",\"2021-11-29T12:41:53.031000\",\"2021-11-29T12:41:53.854000\",\"2021-11-29T12:41:54.698000\",\"2021-11-29T12:41:55.492000\",\"2021-11-29T12:41:56.184000\",\"2021-11-29T12:41:56.992000\",\"2021-11-29T12:41:57.844000\",\"2021-11-29T12:41:58.645000\",\"2021-11-29T12:42:01.169000\",\"2021-11-29T12:42:02.014000\",\"2021-11-29T12:42:02.864000\",\"2021-11-29T12:42:03.572000\",\"2021-11-29T12:42:04.337000\",\"2021-11-29T12:42:05.145000\",\"2021-11-29T12:42:05.945000\",\"2021-11-29T12:42:06.789000\",\"2021-11-29T12:42:07.604000\",\"2021-11-29T12:42:08.434000\",\"2021-11-29T12:42:09.141000\",\"2021-11-29T12:42:10.735000\",\"2021-11-29T12:42:11.608000\",\"2021-11-29T12:42:12.395000\",\"2021-11-29T12:42:13.202000\",\"2021-11-29T12:42:13.988000\",\"2021-11-29T12:42:14.688000\",\"2021-11-29T12:42:15.466000\",\"2021-11-29T12:42:16.216000\",\"2021-11-29T12:42:16.966000\",\"2021-11-29T12:42:17.868000\",\"2021-11-29T12:42:18.682000\",\"2021-11-29T12:42:19.482000\",\"2021-11-29T12:42:20.277000\",\"2021-11-29T12:42:21.105000\",\"2021-11-29T12:42:21.890000\",\"2021-11-29T12:42:22.640000\",\"2021-11-29T12:42:23.463000\",\"2021-11-29T12:42:24.271000\",\"2021-11-29T12:42:25.079000\",\"2021-11-29T12:42:25.887000\",\"2021-11-29T12:42:26.651000\",\"2021-11-29T12:42:27.526000\",\"2021-11-29T12:42:28.643000\",\"2021-11-29T12:42:29.976000\",\"2021-11-29T12:42:30.770000\",\"2021-11-29T12:42:31.607000\",\"2021-11-29T12:42:32.424000\",\"2021-11-29T12:42:33.143000\",\"2021-11-29T12:42:33.939000\",\"2021-11-29T12:42:34.717000\",\"2021-11-29T12:42:35.540000\",\"2021-11-29T12:43:00.977000\",\"2021-11-29T12:43:01.820000\",\"2021-11-29T12:43:02.622000\",\"2021-11-29T12:43:03.430000\",\"2021-11-29T12:43:04.281000\",\"2021-11-29T12:43:05.096000\",\"2021-11-29T12:43:05.810000\",\"2021-11-29T12:43:06.646000\",\"2021-11-29T12:43:07.519000\",\"2021-11-29T12:43:08.270000\",\"2021-11-29T12:43:09.185000\",\"2021-11-29T12:43:10.087000\",\"2021-11-29T12:43:11.558000\",\"2021-11-29T12:43:12.344000\",\"2021-11-29T12:43:13.051000\",\"2021-11-29T12:43:13.880000\",\"2021-11-29T12:43:14.647000\",\"2021-11-29T12:43:15.503000\",\"2021-11-29T12:43:16.317000\",\"2021-11-29T12:43:17.060000\",\"2021-11-29T12:43:17.903000\",\"2021-11-29T12:43:18.754000\",\"2021-11-29T12:43:19.461000\",\"2021-11-29T12:43:20.262000\",\"2021-11-29T12:43:21.048000\",\"2021-11-29T12:43:21.943000\",\"2021-11-29T12:43:22.650000\",\"2021-11-29T12:43:23.444000\",\"2021-11-29T12:43:24.236000\",\"2021-11-29T12:43:25.067000\",\"2021-11-29T12:43:25.804000\",\"2021-11-29T12:43:26.669000\",\"2021-11-29T12:43:27.535000\",\"2021-11-29T12:43:28.336000\",\"2021-11-29T12:43:29.115000\",\"2021-11-29T12:43:29.866000\",\"2021-11-29T12:43:30.586000\",\"2021-11-29T12:43:31.475000\",\"2021-11-29T12:43:32.311000\",\"2021-11-29T12:43:33.096000\",\"2021-11-29T12:43:33.810000\",\"2021-11-29T12:43:34.661000\",\"2021-11-29T12:43:35.556000\",\"2021-11-29T12:43:36.291000\",\"2021-11-29T12:43:37.085000\",\"2021-11-29T12:43:37.951000\",\"2021-11-29T12:43:38.780000\",\"2021-11-29T12:43:39.538000\",\"2021-11-29T12:43:40.396000\",\"2021-11-29T12:43:41.175000\",\"2021-11-29T12:43:41.941000\",\"2021-11-29T12:43:42.676000\",\"2021-11-29T12:43:43.484000\",\"2021-11-29T12:43:44.256000\",\"2021-11-29T12:43:45.049000\",\"2021-11-29T12:43:45.923000\",\"2021-11-29T12:43:46.730000\",\"2021-11-29T12:43:47.581000\",\"2021-11-29T12:43:48.417000\",\"2021-11-29T12:43:50.025000\",\"2021-11-29T12:43:50.819000\",\"2021-11-29T12:43:51.540000\",\"2021-11-29T12:43:53.913000\",\"2021-11-29T12:43:54.728000\",\"2021-11-29T12:43:55.507000\",\"2021-11-29T12:43:56.308000\",\"2021-11-29T12:43:57.116000\",\"2021-11-29T12:43:57.923000\",\"2021-11-29T12:43:58.760000\",\"2021-11-29T12:43:59.488000\",\"2021-11-29T12:44:00.296000\",\"2021-11-29T12:44:01.126000\",\"2021-11-29T12:44:01.898000\",\"2021-11-29T12:44:02.692000\",\"2021-11-29T12:44:03.565000\",\"2021-11-29T12:44:04.330000\",\"2021-11-29T12:44:05.253000\",\"2021-11-29T12:44:06.812000\",\"2021-11-29T12:44:08.327000\",\"2021-11-29T12:44:09.163000\",\"2021-11-29T12:44:09.949000\",\"2021-11-29T12:44:10.757000\",\"2021-11-29T12:44:11.557000\",\"2021-11-29T12:44:12.394000\",\"2021-11-29T12:44:13.144000\",\"2021-11-29T12:44:14.023000\",\"2021-11-29T12:44:14.745000\",\"2021-11-29T12:44:15.532000\",\"2021-11-29T12:44:16.352000\",\"2021-11-29T12:44:18.739000\",\"2021-11-29T12:44:19.590000\",\"2021-11-29T12:44:20.390000\",\"2021-11-29T12:44:21.214000\",\"2021-11-29T12:44:21.971000\",\"2021-11-29T12:44:23.550000\",\"2021-11-29T12:44:24.416000\",\"2021-11-29T12:44:25.174000\",\"2021-11-29T12:44:25.966000\",\"2021-11-29T12:44:26.708000\",\"2021-11-29T12:44:27.531000\",\"2021-11-29T12:44:28.324000\",\"2021-11-29T12:44:29.131000\",\"2021-11-29T12:44:29.967000\",\"2021-11-29T12:44:30.739000\",\"2021-11-29T12:44:31.546000\",\"2021-11-29T12:44:32.369000\",\"2021-11-29T12:44:33.192000\",\"2021-11-29T12:44:33.905000\",\"2021-11-29T12:44:34.706000\",\"2021-11-29T12:44:35.527000\",\"2021-11-29T12:44:36.291000\",\"2021-11-29T12:44:37.142000\",\"2021-11-29T12:44:38.770000\",\"2021-11-29T12:44:39.556000\",\"2021-11-29T12:44:40.348000\",\"2021-11-29T12:44:41.118000\",\"2021-11-29T12:44:41.920000\",\"2021-11-29T12:44:42.706000\",\"2021-11-29T12:44:43.485000\",\"2021-11-29T12:44:44.270000\",\"2021-11-29T12:44:45.077000\",\"2021-11-29T12:44:45.914000\",\"2021-11-29T12:44:46.742000\",\"2021-11-29T12:44:47.550000\",\"2021-11-29T12:44:48.278000\",\"2021-11-29T12:44:49.107000\",\"2021-11-29T12:44:49.965000\",\"2021-11-29T12:44:50.765000\",\"2021-11-29T12:44:51.574000\",\"2021-11-29T12:44:52.323000\",\"2021-11-29T12:44:53.145000\",\"2021-11-29T12:44:53.995000\",\"2021-11-29T12:44:54.739000\",\"2021-11-29T12:44:55.552000\",\"2021-11-29T12:44:56.338000\",\"2021-11-29T12:44:57.153000\",\"2021-11-29T12:44:57.923000\",\"2021-11-29T12:44:58.689000\",\"2021-11-29T12:44:59.489000\",\"2021-11-29T12:45:00.305000\",\"2021-11-29T12:45:01.132000\",\"2021-11-29T12:45:01.955000\",\"2021-11-29T12:45:02.712000\",\"2021-11-29T12:45:03.497000\",\"2021-11-29T12:45:04.341000\",\"2021-11-29T12:45:05.128000\",\"2021-11-29T12:45:05.951000\",\"2021-11-29T12:45:06.708000\",\"2021-11-29T12:45:07.523000\",\"2021-11-29T12:45:08.295000\",\"2021-11-29T12:45:09.103000\",\"2021-11-29T12:45:09.932000\",\"2021-11-29T12:45:10.735000\",\"2021-11-29T12:45:11.520000\",\"2021-11-29T12:45:12.293000\",\"2021-11-29T12:45:13.065000\",\"2021-11-29T12:45:13.903000\",\"2021-11-29T12:45:14.723000\",\"2021-11-29T12:45:15.517000\",\"2021-11-29T12:45:16.310000\",\"2021-11-29T12:45:17.145000\",\"2021-11-29T12:45:18.717000\",\"2021-11-29T12:45:19.538000\",\"2021-11-29T12:45:20.389000\",\"2021-11-29T12:45:21.189000\",\"2021-11-29T12:45:21.975000\",\"2021-11-29T12:45:22.739000\",\"2021-11-29T12:45:23.584000\",\"2021-11-29T12:45:24.325000\",\"2021-11-29T12:45:25.104000\",\"2021-11-29T12:45:25.904000\",\"2021-11-29T12:45:26.741000\",\"2021-11-29T12:45:27.525000\",\"2021-11-29T12:45:28.246000\",\"2021-11-29T12:45:29.054000\",\"2021-11-29T12:45:29.861000\",\"2021-11-29T12:45:30.719000\",\"2021-11-29T12:45:31.440000\",\"2021-11-29T12:45:32.269000\",\"2021-11-29T12:45:33.121000\",\"2021-11-29T12:45:33.879000\",\"2021-11-29T12:45:34.629000\",\"2021-11-29T12:45:35.449000\",\"2021-11-29T12:45:36.264000\",\"2021-11-29T12:45:37.064000\",\"2021-11-29T12:45:37.894000\",\"2021-11-29T12:45:38.700000\",\"2021-11-29T12:45:39.522000\",\"2021-11-29T12:45:40.271000\",\"2021-11-29T12:45:41.114000\",\"2021-11-29T12:45:41.922000\",\"2021-11-29T12:45:42.736000\",\"2021-11-29T12:45:43.514000\",\"2021-11-29T12:45:44.272000\",\"2021-11-29T12:45:45.064000\",\"2021-11-29T12:45:45.757000\",\"2021-11-29T12:45:46.665000\",\"2021-11-29T12:45:47.501000\",\"2021-11-29T12:45:48.273000\",\"2021-11-29T12:45:49.642000\",\"2021-11-29T12:45:50.716000\",\"2021-11-29T12:45:51.518000\",\"2021-11-29T12:45:52.325000\",\"2021-11-29T12:45:53.095000\",\"2021-11-29T12:45:53.910000\",\"2021-11-29T12:45:54.659000\",\"2021-11-29T12:45:55.509000\",\"2021-11-29T12:45:56.303000\",\"2021-11-29T12:45:57.081000\",\"2021-11-29T12:45:57.910000\",\"2021-11-29T12:45:58.632000\",\"2021-11-29T12:45:59.382000\",\"2021-11-29T12:46:00.262000\",\"2021-11-29T12:46:00.968000\",\"2021-11-29T12:46:01.768000\",\"2021-11-29T12:46:02.590000\",\"2021-11-29T12:46:03.448000\",\"2021-11-29T12:46:04.256000\",\"2021-11-29T12:46:35.996000\",\"2021-11-29T12:46:36.737000\",\"2021-11-29T12:46:37.537000\",\"2021-11-29T12:46:38.381000\",\"2021-11-29T12:46:39.180000\",\"2021-11-29T12:46:40.312000\",\"2021-11-29T12:46:41.191000\",\"2021-11-29T12:46:41.991000\",\"2021-11-29T12:46:42.785000\",\"2021-11-29T12:46:43.570000\",\"2021-11-29T12:46:44.313000\",\"2021-11-29T12:46:45.049000\",\"2021-11-29T12:46:45.872000\",\"2021-11-29T12:46:46.729000\",\"2021-11-29T12:46:48.365000\",\"2021-11-29T12:46:49.165000\",\"2021-11-29T12:46:49.959000\",\"2021-11-29T12:46:50.715000\",\"2021-11-29T12:46:51.551000\",\"2021-11-29T12:46:52.301000\",\"2021-11-29T12:46:53.116000\",\"2021-11-29T12:46:53.909000\",\"2021-11-29T12:46:54.732000\",\"2021-11-29T12:46:55.526000\",\"2021-11-29T12:46:56.312000\",\"2021-11-29T12:46:57.127000\",\"2021-11-29T12:46:57.913000\",\"2021-11-29T12:46:58.786000\",\"2021-11-29T12:47:01.080000\",\"2021-11-29T12:47:01.887000\",\"2021-11-29T12:47:02.739000\",\"2021-11-29T12:47:03.541000\",\"2021-11-29T12:47:04.305000\",\"2021-11-29T12:47:05.106000\",\"2021-11-29T12:47:05.921000\",\"2021-11-29T12:47:06.808000\",\"2021-11-29T12:47:07.528000\",\"2021-11-29T12:47:08.307000\",\"2021-11-29T12:47:09.166000\",\"2021-11-29T12:47:09.880000\",\"2021-11-29T12:47:10.680000\",\"2021-11-29T12:47:11.487000\",\"2021-11-29T12:47:12.266000\",\"2021-11-29T12:47:13.109000\",\"2021-11-29T12:47:13.888000\",\"2021-11-29T12:47:14.710000\",\"2021-11-29T12:47:15.510000\",\"2021-11-29T12:47:16.304000\",\"2021-11-29T12:47:17.074000\",\"2021-11-29T12:47:17.904000\",\"2021-11-29T12:47:18.720000\",\"2021-11-29T12:47:19.520000\",\"2021-11-29T12:47:20.254000\",\"2021-11-29T12:47:21.113000\",\"2021-11-29T12:47:21.906000\",\"2021-11-29T12:47:22.707000\",\"2021-11-29T12:47:23.579000\",\"2021-11-29T12:47:24.330000\",\"2021-11-29T12:47:25.109000\",\"2021-11-29T12:47:25.953000\",\"2021-11-29T12:47:26.753000\",\"2021-11-29T12:47:27.532000\",\"2021-11-29T12:47:28.333000\",\"2021-11-29T12:47:29.140000\",\"2021-11-29T12:47:29.970000\",\"2021-11-29T12:48:01.167000\",\"2021-11-29T12:48:02.027000\",\"2021-11-29T12:48:02.833000\",\"2021-11-29T12:48:03.628000\",\"2021-11-29T12:48:04.643000\",\"2021-11-29T12:48:05.919000\",\"2021-11-29T12:48:06.770000\",\"2021-11-29T12:48:07.483000\",\"2021-11-29T12:48:08.270000\",\"2021-11-29T12:48:09.019000\",\"2021-11-29T12:48:09.812000\",\"2021-11-29T12:48:10.569000\",\"2021-11-29T12:48:11.420000\",\"2021-11-29T12:48:12.277000\",\"2021-11-29T12:48:13.019000\",\"2021-11-29T12:48:13.862000\",\"2021-11-29T12:48:14.720000\",\"2021-11-29T12:48:15.448000\",\"2021-11-29T12:48:16.313000\",\"2021-11-29T12:48:17.007000\",\"2021-11-29T12:48:17.814000\",\"2021-11-29T12:48:18.636000\",\"2021-11-29T12:48:19.407000\",\"2021-11-29T12:48:20.280000\",\"2021-11-29T12:48:21.095000\",\"2021-11-29T12:48:21.844000\",\"2021-11-29T12:48:22.731000\",\"2021-11-29T12:48:23.575000\",\"2021-11-29T12:48:24.390000\",\"2021-11-29T12:48:26.756000\",\"2021-11-29T12:48:27.551000\",\"2021-11-29T12:48:28.344000\",\"2021-11-29T12:48:29.153000\",\"2021-11-29T12:48:29.896000\",\"2021-11-29T12:48:30.720000\",\"2021-11-29T12:48:31.527000\",\"2021-11-29T12:48:32.328000\",\"2021-11-29T12:48:33.165000\",\"2021-11-29T12:48:33.966000\",\"2021-11-29T12:48:34.746000\",\"2021-11-29T12:48:35.511000\",\"2021-11-29T12:48:36.319000\",\"2021-11-29T12:48:37.135000\",\"2021-11-29T12:48:37.835000\",\"2021-11-29T12:48:38.635000\",\"2021-11-29T12:48:39.508000\",\"2021-11-29T12:48:40.275000\",\"2021-11-29T12:48:41.001000\",\"2021-11-29T12:48:41.809000\",\"2021-11-29T12:48:42.610000\",\"2021-11-29T12:48:43.562000\",\"2021-11-29T12:48:44.349000\",\"2021-11-29T12:48:45.163000\",\"2021-11-29T12:48:45.892000\",\"2021-11-29T12:48:46.707000\",\"2021-11-29T12:48:47.508000\",\"2021-11-29T12:48:48.315000\",\"2021-11-29T12:48:49.159000\",\"2021-11-29T12:48:49.910000\",\"2021-11-29T12:48:50.682000\",\"2021-11-29T12:48:51.476000\",\"2021-11-29T12:48:52.262000\",\"2021-11-29T12:48:53.077000\",\"2021-11-29T12:48:53.878000\",\"2021-11-29T12:48:54.664000\",\"2021-11-29T12:48:55.487000\",\"2021-11-29T12:48:56.275000\",\"2021-11-29T12:48:57.046000\",\"2021-11-29T12:48:57.853000\",\"2021-11-29T12:48:58.632000\",\"2021-11-29T12:48:59.404000\",\"2021-11-29T12:49:00.213000\",\"2021-11-29T12:49:01.034000\",\"2021-11-29T12:49:01.871000\",\"2021-11-29T12:49:02.650000\",\"2021-11-29T12:49:03.422000\",\"2021-11-29T12:49:04.165000\",\"2021-11-29T12:49:04.967000\",\"2021-11-29T12:49:05.818000\",\"2021-11-29T12:49:06.640000\",\"2021-11-29T12:49:07.456000\",\"2021-11-29T12:49:08.307000\",\"2021-11-29T12:49:09.115000\",\"2021-11-29T12:49:10.105000\",\"2021-11-29T12:49:53.077000\",\"2021-11-29T12:49:53.913000\",\"2021-11-29T12:49:54.835000\",\"2021-11-29T12:49:55.749000\",\"2021-11-29T12:49:57.149000\",\"2021-11-29T12:49:57.985000\",\"2021-11-29T12:49:58.785000\",\"2021-11-29T12:49:59.556000\",\"2021-11-29T12:50:00.299000\",\"2021-11-29T12:50:01.093000\",\"2021-11-29T12:50:01.906000\",\"2021-11-29T12:50:02.620000\",\"2021-11-29T12:50:03.507000\",\"2021-11-29T12:50:04.293000\",\"2021-11-29T12:50:05.065000\",\"2021-11-29T12:50:05.850000\",\"2021-11-29T12:50:06.679000\",\"2021-11-29T12:50:07.501000\",\"2021-11-29T12:50:08.315000\",\"2021-11-29T12:50:09.131000\",\"2021-11-29T12:50:09.895000\",\"2021-11-29T12:50:10.696000\",\"2021-11-29T12:50:11.431000\",\"2021-11-29T12:50:12.269000\",\"2021-11-29T12:50:13.083000\",\"2021-11-29T12:50:13.933000\",\"2021-11-29T12:50:14.734000\",\"2021-11-29T12:50:15.570000\",\"2021-11-29T12:50:16.362000\",\"2021-11-29T12:50:18.714000\",\"2021-11-29T12:50:19.551000\",\"2021-11-29T12:50:20.360000\",\"2021-11-29T12:50:21.218000\"],\"xaxis\":\"x\",\"y\":[1,1,1,1,1,1,1,1,1,1,1,1,1,1,1,1,1,1,1,1,1,1,1,1,1,1,1,1,1,1,1,1,1,1,1,1,1,1,1,1,1,1,1,1,1,1,1,1,1,1,1,1,1,1,1,1,1,1,1,1,1,1,1,1,1,1,1,1,1,1,1,1,1,1,1,1,1,1,1,1,1,1,1,1,1,1,1,1,1,1,1,1,1,1,1,1,1,1,1,1,1,1,1,1,1,1,1,1,1,1,1,1,1,1,1,1,1,1,1,1,1,1,1,1,1,1,1,1,1,1,1,1,1,1,1,1,1,1,1,1,1,1,1,1,1,1,1,1,1,1,1,1,1,1,1,1,1,1,1,1,1,1,1,1,1,1,1,1,1,1,1,1,1,1,1,1,1,1,1,1,1,1,1,1,1,1,1,1,1,1,1,1,1,1,1,1,1,1,1,1,1,1,1,1,1,1,1,1,1,1,1,1,1,1,1,1,1,1,1,1,1,1,1,1,1,1,1,1,1,1,1,1,1,1,1,1,1,1,1,1,1,1,1,1,1,1,1,1,1,1,1,1,1,1,1,1,1,1,1,1,1,1,1,1,1,1,1,1,1,1,1,1,1,1,1,1,1,1,1,1,1,1,1,1,1,1,1,1,1,1,1,1,1,1,1,1,1,1,1,1,1,1,1,1,1,1,1,1,1,1,1,1,1,1,1,1,1,1,1,1,1,1,1,1,1,1,1,1,1,1,1,1,1,1,1,1,1,1,1,1,1,1,1,1,1,1,1,1,1,1,1,1,1,1,1,1,1,1,1,1,1,1,1,1,1,1,1,1,1,1,1,1,1,1,1,1,1,1,1,1,1,1,1,1,1,1,1,1,1,1,1,1,1,1,1,1,1,1,1,1,1,1,1,1,1,1,1,1,1,1,1,1,1,1,1,1,1,1,1,1,1,1,1,1,1,1,1,1,1,1,1,1,1,1,1,1,1,1,1,1,1,1,1,1,1,1,1,1,1,1,1,1,1,1,1,1,1,1,1,1,1,1,1,1,1,1,1,1,1,1,1,1,1,1,1,1,1,1,1,1,1,1,1,1,1,1,1,1,1,1,1,1,1,1,1,1,1,1,1,1,1,1,1,1,1,1,1,1,1,1,1,1,1,1,1,1,1,1,1,1,1,1,1,1,1,1,1,1,1,1,1,1,1,1,1,1,1,1,1,1,1,1,1,1,1,1,1,1,1,1,1,1,1,1,1,1,1,1,1,1,1,1,1,1,1,1,1,1,1,1,1,1,1,1,1,1,1,1,1,1,1,1,1,1,1,1,1,1,1,1,1,1,1,1,1,1,1,1,1,1,1,1,1,1,1,1,1,1,1,1,1,1,1,1,1,1,1,1,1,1,1,1,1,1,1,1,1,1,1,1,1,1,1,1,1,1,1,1,1,1,1,1,1,1,1,1,1,1,1,1,1,1,1,1,1,1,1,1,1,1,1,1,1,1,1,1,1,1,1,1,1,1,1,1,1,1,1,1,1,1,1,1,1,1,1,1,1,1,1,1,1,1,1,1,1,1,1,1,1,1,1,1,1,1,1,1,1,1,1,1,1,1,1,1,1,1,1,1,1,1,1,1,1,1,1,1,1,1,1,1,1,1,1,1,1,1,1,1,1,1,1,1,1,1,1,1,1,1,1,1,1,1,1,1,1,1,1,1,1,1,1,1,1,1,1,1,1,1,1,1,1,1,1,1,1,1,1,1,1,1,1,1,1,1,1,1,1,1,1,1,1,1,1,1,1,1,1,1,1,1,1,1,1,1,1,1,1,1,1,1,1,1,1,1,1,1,1,1,1,1,1,1,1,1,1,1,1,1,1,1,1,1,1,1,1,1,1,1,1,1,1,1,1,1,1,1,1,1,1,1,1,1,1,1,1,1,1,1,1,1,1,1,1,1,1,1,1,1,1,1,1,1,1,1,1,1,1,1,1,1,1,1,1,1,1,1,1,1,1,1,1,1,1,1,1,1,1,1,1,1,1,1,1,1,1,1,1,1,1,1,1,1,1,1,1,1,1,1,1,1,1,1,1,1,1,1,1,1,1,1,1,1,1,1,1,1,1,1,1,1,1,1,1,1,1,1,1,1,1,1,1,1,1,1,1,1,1,1,1,1,1,1,1,1,1,1,1,1,1,1,1,1,1,1,1,1,1,1,1,1,1,1,1,1,1,1,1,1,1,1,1,1,1,1,1,1,1,1,1,1,1,1,1,1,1,1,1,1,1,1,1,1,1,1,1,1,1,1,1,1,1,1,1,1,1,1,1,1,1,1,1,1,1,1,1,1,1,1,1,1,1,1,1,1,1,1,1,1,1,1,1,1,1,1,1,1,1,1,1,1,1,1,1,1,1,1,1,1,1,1,1,1,1,1,1,1,1,1,1,1,1,1,1,1,1,1,1,1,1,1,1,1,1,1,1,1,1,1,1,1,1,1,1,1,1,1,1,1,1,1,1,1,1,1,1,1,1,1,1,1,1,1,1,1,1,1,1,1,1,1,1,1,1,1,1,1,1,1,1,1,1,1,1,1,1,1,1,1,1,1,1,1,1,1,1,1,1,1,1,1,1,1,1,1,1,1,1,1,1,1,1,1,1,1,1,1,1,1,1,1,1,1,1,1,1,1,1,1],\"yaxis\":\"y\",\"type\":\"scattergl\"},{\"hovertemplate\":\"Cat=WFD<br>Time=%{x}<br>Num=%{y}<extra></extra>\",\"legendgroup\":\"WFD\",\"marker\":{\"color\":\"#FF7F0E\",\"symbol\":\"circle\"},\"mode\":\"markers\",\"name\":\"WFD\",\"showlegend\":true,\"x\":[\"2021-11-29T12:32:06.201000\",\"2021-11-29T12:34:46.019000\",\"2021-11-29T12:35:53.035000\",\"2021-11-29T12:37:04.920000\",\"2021-11-29T12:41:10.278000\",\"2021-11-29T12:42:37.749000\",\"2021-11-29T12:46:06.555000\",\"2021-11-29T12:47:32.942000\",\"2021-11-29T12:49:12.356000\",\"2021-11-29T12:50:23.936000\"],\"xaxis\":\"x\",\"y\":[0,0,0,0,0,0,0,0,0,0],\"yaxis\":\"y\",\"type\":\"scattergl\"}],                        {\"template\":{\"data\":{\"bar\":[{\"error_x\":{\"color\":\"#2a3f5f\"},\"error_y\":{\"color\":\"#2a3f5f\"},\"marker\":{\"line\":{\"color\":\"#E5ECF6\",\"width\":0.5},\"pattern\":{\"fillmode\":\"overlay\",\"size\":10,\"solidity\":0.2}},\"type\":\"bar\"}],\"barpolar\":[{\"marker\":{\"line\":{\"color\":\"#E5ECF6\",\"width\":0.5},\"pattern\":{\"fillmode\":\"overlay\",\"size\":10,\"solidity\":0.2}},\"type\":\"barpolar\"}],\"carpet\":[{\"aaxis\":{\"endlinecolor\":\"#2a3f5f\",\"gridcolor\":\"white\",\"linecolor\":\"white\",\"minorgridcolor\":\"white\",\"startlinecolor\":\"#2a3f5f\"},\"baxis\":{\"endlinecolor\":\"#2a3f5f\",\"gridcolor\":\"white\",\"linecolor\":\"white\",\"minorgridcolor\":\"white\",\"startlinecolor\":\"#2a3f5f\"},\"type\":\"carpet\"}],\"choropleth\":[{\"colorbar\":{\"outlinewidth\":0,\"ticks\":\"\"},\"type\":\"choropleth\"}],\"contour\":[{\"colorbar\":{\"outlinewidth\":0,\"ticks\":\"\"},\"colorscale\":[[0.0,\"#0d0887\"],[0.1111111111111111,\"#46039f\"],[0.2222222222222222,\"#7201a8\"],[0.3333333333333333,\"#9c179e\"],[0.4444444444444444,\"#bd3786\"],[0.5555555555555556,\"#d8576b\"],[0.6666666666666666,\"#ed7953\"],[0.7777777777777778,\"#fb9f3a\"],[0.8888888888888888,\"#fdca26\"],[1.0,\"#f0f921\"]],\"type\":\"contour\"}],\"contourcarpet\":[{\"colorbar\":{\"outlinewidth\":0,\"ticks\":\"\"},\"type\":\"contourcarpet\"}],\"heatmap\":[{\"colorbar\":{\"outlinewidth\":0,\"ticks\":\"\"},\"colorscale\":[[0.0,\"#0d0887\"],[0.1111111111111111,\"#46039f\"],[0.2222222222222222,\"#7201a8\"],[0.3333333333333333,\"#9c179e\"],[0.4444444444444444,\"#bd3786\"],[0.5555555555555556,\"#d8576b\"],[0.6666666666666666,\"#ed7953\"],[0.7777777777777778,\"#fb9f3a\"],[0.8888888888888888,\"#fdca26\"],[1.0,\"#f0f921\"]],\"type\":\"heatmap\"}],\"heatmapgl\":[{\"colorbar\":{\"outlinewidth\":0,\"ticks\":\"\"},\"colorscale\":[[0.0,\"#0d0887\"],[0.1111111111111111,\"#46039f\"],[0.2222222222222222,\"#7201a8\"],[0.3333333333333333,\"#9c179e\"],[0.4444444444444444,\"#bd3786\"],[0.5555555555555556,\"#d8576b\"],[0.6666666666666666,\"#ed7953\"],[0.7777777777777778,\"#fb9f3a\"],[0.8888888888888888,\"#fdca26\"],[1.0,\"#f0f921\"]],\"type\":\"heatmapgl\"}],\"histogram\":[{\"marker\":{\"pattern\":{\"fillmode\":\"overlay\",\"size\":10,\"solidity\":0.2}},\"type\":\"histogram\"}],\"histogram2d\":[{\"colorbar\":{\"outlinewidth\":0,\"ticks\":\"\"},\"colorscale\":[[0.0,\"#0d0887\"],[0.1111111111111111,\"#46039f\"],[0.2222222222222222,\"#7201a8\"],[0.3333333333333333,\"#9c179e\"],[0.4444444444444444,\"#bd3786\"],[0.5555555555555556,\"#d8576b\"],[0.6666666666666666,\"#ed7953\"],[0.7777777777777778,\"#fb9f3a\"],[0.8888888888888888,\"#fdca26\"],[1.0,\"#f0f921\"]],\"type\":\"histogram2d\"}],\"histogram2dcontour\":[{\"colorbar\":{\"outlinewidth\":0,\"ticks\":\"\"},\"colorscale\":[[0.0,\"#0d0887\"],[0.1111111111111111,\"#46039f\"],[0.2222222222222222,\"#7201a8\"],[0.3333333333333333,\"#9c179e\"],[0.4444444444444444,\"#bd3786\"],[0.5555555555555556,\"#d8576b\"],[0.6666666666666666,\"#ed7953\"],[0.7777777777777778,\"#fb9f3a\"],[0.8888888888888888,\"#fdca26\"],[1.0,\"#f0f921\"]],\"type\":\"histogram2dcontour\"}],\"mesh3d\":[{\"colorbar\":{\"outlinewidth\":0,\"ticks\":\"\"},\"type\":\"mesh3d\"}],\"parcoords\":[{\"line\":{\"colorbar\":{\"outlinewidth\":0,\"ticks\":\"\"}},\"type\":\"parcoords\"}],\"pie\":[{\"automargin\":true,\"type\":\"pie\"}],\"scatter\":[{\"marker\":{\"colorbar\":{\"outlinewidth\":0,\"ticks\":\"\"}},\"type\":\"scatter\"}],\"scatter3d\":[{\"line\":{\"colorbar\":{\"outlinewidth\":0,\"ticks\":\"\"}},\"marker\":{\"colorbar\":{\"outlinewidth\":0,\"ticks\":\"\"}},\"type\":\"scatter3d\"}],\"scattercarpet\":[{\"marker\":{\"colorbar\":{\"outlinewidth\":0,\"ticks\":\"\"}},\"type\":\"scattercarpet\"}],\"scattergeo\":[{\"marker\":{\"colorbar\":{\"outlinewidth\":0,\"ticks\":\"\"}},\"type\":\"scattergeo\"}],\"scattergl\":[{\"marker\":{\"colorbar\":{\"outlinewidth\":0,\"ticks\":\"\"}},\"type\":\"scattergl\"}],\"scattermapbox\":[{\"marker\":{\"colorbar\":{\"outlinewidth\":0,\"ticks\":\"\"}},\"type\":\"scattermapbox\"}],\"scatterpolar\":[{\"marker\":{\"colorbar\":{\"outlinewidth\":0,\"ticks\":\"\"}},\"type\":\"scatterpolar\"}],\"scatterpolargl\":[{\"marker\":{\"colorbar\":{\"outlinewidth\":0,\"ticks\":\"\"}},\"type\":\"scatterpolargl\"}],\"scatterternary\":[{\"marker\":{\"colorbar\":{\"outlinewidth\":0,\"ticks\":\"\"}},\"type\":\"scatterternary\"}],\"surface\":[{\"colorbar\":{\"outlinewidth\":0,\"ticks\":\"\"},\"colorscale\":[[0.0,\"#0d0887\"],[0.1111111111111111,\"#46039f\"],[0.2222222222222222,\"#7201a8\"],[0.3333333333333333,\"#9c179e\"],[0.4444444444444444,\"#bd3786\"],[0.5555555555555556,\"#d8576b\"],[0.6666666666666666,\"#ed7953\"],[0.7777777777777778,\"#fb9f3a\"],[0.8888888888888888,\"#fdca26\"],[1.0,\"#f0f921\"]],\"type\":\"surface\"}],\"table\":[{\"cells\":{\"fill\":{\"color\":\"#EBF0F8\"},\"line\":{\"color\":\"white\"}},\"header\":{\"fill\":{\"color\":\"#C8D4E3\"},\"line\":{\"color\":\"white\"}},\"type\":\"table\"}]},\"layout\":{\"annotationdefaults\":{\"arrowcolor\":\"#2a3f5f\",\"arrowhead\":0,\"arrowwidth\":1},\"autotypenumbers\":\"strict\",\"coloraxis\":{\"colorbar\":{\"outlinewidth\":0,\"ticks\":\"\"}},\"colorscale\":{\"diverging\":[[0,\"#8e0152\"],[0.1,\"#c51b7d\"],[0.2,\"#de77ae\"],[0.3,\"#f1b6da\"],[0.4,\"#fde0ef\"],[0.5,\"#f7f7f7\"],[0.6,\"#e6f5d0\"],[0.7,\"#b8e186\"],[0.8,\"#7fbc41\"],[0.9,\"#4d9221\"],[1,\"#276419\"]],\"sequential\":[[0.0,\"#0d0887\"],[0.1111111111111111,\"#46039f\"],[0.2222222222222222,\"#7201a8\"],[0.3333333333333333,\"#9c179e\"],[0.4444444444444444,\"#bd3786\"],[0.5555555555555556,\"#d8576b\"],[0.6666666666666666,\"#ed7953\"],[0.7777777777777778,\"#fb9f3a\"],[0.8888888888888888,\"#fdca26\"],[1.0,\"#f0f921\"]],\"sequentialminus\":[[0.0,\"#0d0887\"],[0.1111111111111111,\"#46039f\"],[0.2222222222222222,\"#7201a8\"],[0.3333333333333333,\"#9c179e\"],[0.4444444444444444,\"#bd3786\"],[0.5555555555555556,\"#d8576b\"],[0.6666666666666666,\"#ed7953\"],[0.7777777777777778,\"#fb9f3a\"],[0.8888888888888888,\"#fdca26\"],[1.0,\"#f0f921\"]]},\"colorway\":[\"#636efa\",\"#EF553B\",\"#00cc96\",\"#ab63fa\",\"#FFA15A\",\"#19d3f3\",\"#FF6692\",\"#B6E880\",\"#FF97FF\",\"#FECB52\"],\"font\":{\"color\":\"#2a3f5f\"},\"geo\":{\"bgcolor\":\"white\",\"lakecolor\":\"white\",\"landcolor\":\"#E5ECF6\",\"showlakes\":true,\"showland\":true,\"subunitcolor\":\"white\"},\"hoverlabel\":{\"align\":\"left\"},\"hovermode\":\"closest\",\"mapbox\":{\"style\":\"light\"},\"paper_bgcolor\":\"white\",\"plot_bgcolor\":\"#E5ECF6\",\"polar\":{\"angularaxis\":{\"gridcolor\":\"white\",\"linecolor\":\"white\",\"ticks\":\"\"},\"bgcolor\":\"#E5ECF6\",\"radialaxis\":{\"gridcolor\":\"white\",\"linecolor\":\"white\",\"ticks\":\"\"}},\"scene\":{\"xaxis\":{\"backgroundcolor\":\"#E5ECF6\",\"gridcolor\":\"white\",\"gridwidth\":2,\"linecolor\":\"white\",\"showbackground\":true,\"ticks\":\"\",\"zerolinecolor\":\"white\"},\"yaxis\":{\"backgroundcolor\":\"#E5ECF6\",\"gridcolor\":\"white\",\"gridwidth\":2,\"linecolor\":\"white\",\"showbackground\":true,\"ticks\":\"\",\"zerolinecolor\":\"white\"},\"zaxis\":{\"backgroundcolor\":\"#E5ECF6\",\"gridcolor\":\"white\",\"gridwidth\":2,\"linecolor\":\"white\",\"showbackground\":true,\"ticks\":\"\",\"zerolinecolor\":\"white\"}},\"shapedefaults\":{\"line\":{\"color\":\"#2a3f5f\"}},\"ternary\":{\"aaxis\":{\"gridcolor\":\"white\",\"linecolor\":\"white\",\"ticks\":\"\"},\"baxis\":{\"gridcolor\":\"white\",\"linecolor\":\"white\",\"ticks\":\"\"},\"bgcolor\":\"#E5ECF6\",\"caxis\":{\"gridcolor\":\"white\",\"linecolor\":\"white\",\"ticks\":\"\"}},\"title\":{\"x\":0.05},\"xaxis\":{\"automargin\":true,\"gridcolor\":\"white\",\"linecolor\":\"white\",\"ticks\":\"\",\"title\":{\"standoff\":15},\"zerolinecolor\":\"white\",\"zerolinewidth\":2},\"yaxis\":{\"automargin\":true,\"gridcolor\":\"white\",\"linecolor\":\"white\",\"ticks\":\"\",\"title\":{\"standoff\":15},\"zerolinecolor\":\"white\",\"zerolinewidth\":2}}},\"xaxis\":{\"anchor\":\"y\",\"domain\":[0.0,1.0],\"title\":{\"text\":\"Time\"}},\"yaxis\":{\"anchor\":\"x\",\"domain\":[0.0,1.0],\"title\":{\"text\":\"Num\"},\"type\":\"category\"},\"legend\":{\"title\":{\"text\":\"Cat\"},\"tracegroupgap\":0},\"title\":{\"text\":\"Anomaly detected vs time\"},\"height\":500,\"width\":800},                        {\"responsive\": true}                    ).then(function(){\n",
              "                            \n",
              "var gd = document.getElementById('3003832a-3581-4b51-a930-5c162b19ca95');\n",
              "var x = new MutationObserver(function (mutations, observer) {{\n",
              "        var display = window.getComputedStyle(gd).display;\n",
              "        if (!display || display === 'none') {{\n",
              "            console.log([gd, 'removed!']);\n",
              "            Plotly.purge(gd);\n",
              "            observer.disconnect();\n",
              "        }}\n",
              "}});\n",
              "\n",
              "// Listen for the removal of the full notebook cells\n",
              "var notebookContainer = gd.closest('#notebook-container');\n",
              "if (notebookContainer) {{\n",
              "    x.observe(notebookContainer, {childList: true});\n",
              "}}\n",
              "\n",
              "// Listen for the clearing of the current output cell\n",
              "var outputEl = gd.closest('.output');\n",
              "if (outputEl) {{\n",
              "    x.observe(outputEl, {childList: true});\n",
              "}}\n",
              "\n",
              "                        })                };                            </script>        </div>\n",
              "</body>\n",
              "</html>"
            ]
          },
          "metadata": {}
        }
      ]
    },
    {
      "cell_type": "code",
      "metadata": {
        "colab": {
          "base_uri": "https://localhost:8080/",
          "height": 517
        },
        "id": "02L7s73yuUSA",
        "outputId": "455954a9-20d6-426b-e3db-82334d4e428f"
      },
      "source": [
        "#Plotting the histogram of \n",
        "def plot_box_min():\n",
        "  df = df2[(df2['Cat']=='WFD')].copy()\n",
        "  fig2_c = px.box(data_frame=df, x='Delta',\n",
        "                  title=f'Minutes elapsed until failure', height=500, width=800,\n",
        "                  color_discrete_sequence=px.colors.qualitative.D3)\n",
        "  fig2_c.show()\n",
        "\n",
        "plot_box_min()"
      ],
      "execution_count": null,
      "outputs": [
        {
          "output_type": "display_data",
          "data": {
            "text/html": [
              "<html>\n",
              "<head><meta charset=\"utf-8\" /></head>\n",
              "<body>\n",
              "    <div>            <script src=\"https://cdnjs.cloudflare.com/ajax/libs/mathjax/2.7.5/MathJax.js?config=TeX-AMS-MML_SVG\"></script><script type=\"text/javascript\">if (window.MathJax) {MathJax.Hub.Config({SVG: {font: \"STIX-Web\"}});}</script>                <script type=\"text/javascript\">window.PlotlyConfig = {MathJaxConfig: 'local'};</script>\n",
              "        <script src=\"https://cdn.plot.ly/plotly-2.6.3.min.js\"></script>                <div id=\"a0ea54db-1844-4325-819a-085507d14cfa\" class=\"plotly-graph-div\" style=\"height:500px; width:800px;\"></div>            <script type=\"text/javascript\">                                    window.PLOTLYENV=window.PLOTLYENV || {};                                    if (document.getElementById(\"a0ea54db-1844-4325-819a-085507d14cfa\")) {                    Plotly.newPlot(                        \"a0ea54db-1844-4325-819a-085507d14cfa\",                        [{\"alignmentgroup\":\"True\",\"hovertemplate\":\"Delta=%{x}<extra></extra>\",\"legendgroup\":\"\",\"marker\":{\"color\":\"#1F77B4\"},\"name\":\"\",\"notched\":false,\"offsetgroup\":\"\",\"orientation\":\"h\",\"showlegend\":false,\"x\":[\"2021-11-29T00:01:54.924000\",\"2021-11-29T00:02:30.147000\",\"2021-11-29T00:00:39.481000\",\"2021-11-29T00:01:06.313000\",\"2021-11-29T00:03:46.802000\",\"2021-11-29T00:01:11.746000\",\"2021-11-29T00:03:06.328000\",\"2021-11-29T00:00:57.820000\",\"2021-11-29T00:01:12.069000\",\"2021-11-29T00:00:31.889000\"],\"x0\":\" \",\"xaxis\":\"x\",\"y0\":\" \",\"yaxis\":\"y\",\"type\":\"box\"}],                        {\"template\":{\"data\":{\"bar\":[{\"error_x\":{\"color\":\"#2a3f5f\"},\"error_y\":{\"color\":\"#2a3f5f\"},\"marker\":{\"line\":{\"color\":\"#E5ECF6\",\"width\":0.5},\"pattern\":{\"fillmode\":\"overlay\",\"size\":10,\"solidity\":0.2}},\"type\":\"bar\"}],\"barpolar\":[{\"marker\":{\"line\":{\"color\":\"#E5ECF6\",\"width\":0.5},\"pattern\":{\"fillmode\":\"overlay\",\"size\":10,\"solidity\":0.2}},\"type\":\"barpolar\"}],\"carpet\":[{\"aaxis\":{\"endlinecolor\":\"#2a3f5f\",\"gridcolor\":\"white\",\"linecolor\":\"white\",\"minorgridcolor\":\"white\",\"startlinecolor\":\"#2a3f5f\"},\"baxis\":{\"endlinecolor\":\"#2a3f5f\",\"gridcolor\":\"white\",\"linecolor\":\"white\",\"minorgridcolor\":\"white\",\"startlinecolor\":\"#2a3f5f\"},\"type\":\"carpet\"}],\"choropleth\":[{\"colorbar\":{\"outlinewidth\":0,\"ticks\":\"\"},\"type\":\"choropleth\"}],\"contour\":[{\"colorbar\":{\"outlinewidth\":0,\"ticks\":\"\"},\"colorscale\":[[0.0,\"#0d0887\"],[0.1111111111111111,\"#46039f\"],[0.2222222222222222,\"#7201a8\"],[0.3333333333333333,\"#9c179e\"],[0.4444444444444444,\"#bd3786\"],[0.5555555555555556,\"#d8576b\"],[0.6666666666666666,\"#ed7953\"],[0.7777777777777778,\"#fb9f3a\"],[0.8888888888888888,\"#fdca26\"],[1.0,\"#f0f921\"]],\"type\":\"contour\"}],\"contourcarpet\":[{\"colorbar\":{\"outlinewidth\":0,\"ticks\":\"\"},\"type\":\"contourcarpet\"}],\"heatmap\":[{\"colorbar\":{\"outlinewidth\":0,\"ticks\":\"\"},\"colorscale\":[[0.0,\"#0d0887\"],[0.1111111111111111,\"#46039f\"],[0.2222222222222222,\"#7201a8\"],[0.3333333333333333,\"#9c179e\"],[0.4444444444444444,\"#bd3786\"],[0.5555555555555556,\"#d8576b\"],[0.6666666666666666,\"#ed7953\"],[0.7777777777777778,\"#fb9f3a\"],[0.8888888888888888,\"#fdca26\"],[1.0,\"#f0f921\"]],\"type\":\"heatmap\"}],\"heatmapgl\":[{\"colorbar\":{\"outlinewidth\":0,\"ticks\":\"\"},\"colorscale\":[[0.0,\"#0d0887\"],[0.1111111111111111,\"#46039f\"],[0.2222222222222222,\"#7201a8\"],[0.3333333333333333,\"#9c179e\"],[0.4444444444444444,\"#bd3786\"],[0.5555555555555556,\"#d8576b\"],[0.6666666666666666,\"#ed7953\"],[0.7777777777777778,\"#fb9f3a\"],[0.8888888888888888,\"#fdca26\"],[1.0,\"#f0f921\"]],\"type\":\"heatmapgl\"}],\"histogram\":[{\"marker\":{\"pattern\":{\"fillmode\":\"overlay\",\"size\":10,\"solidity\":0.2}},\"type\":\"histogram\"}],\"histogram2d\":[{\"colorbar\":{\"outlinewidth\":0,\"ticks\":\"\"},\"colorscale\":[[0.0,\"#0d0887\"],[0.1111111111111111,\"#46039f\"],[0.2222222222222222,\"#7201a8\"],[0.3333333333333333,\"#9c179e\"],[0.4444444444444444,\"#bd3786\"],[0.5555555555555556,\"#d8576b\"],[0.6666666666666666,\"#ed7953\"],[0.7777777777777778,\"#fb9f3a\"],[0.8888888888888888,\"#fdca26\"],[1.0,\"#f0f921\"]],\"type\":\"histogram2d\"}],\"histogram2dcontour\":[{\"colorbar\":{\"outlinewidth\":0,\"ticks\":\"\"},\"colorscale\":[[0.0,\"#0d0887\"],[0.1111111111111111,\"#46039f\"],[0.2222222222222222,\"#7201a8\"],[0.3333333333333333,\"#9c179e\"],[0.4444444444444444,\"#bd3786\"],[0.5555555555555556,\"#d8576b\"],[0.6666666666666666,\"#ed7953\"],[0.7777777777777778,\"#fb9f3a\"],[0.8888888888888888,\"#fdca26\"],[1.0,\"#f0f921\"]],\"type\":\"histogram2dcontour\"}],\"mesh3d\":[{\"colorbar\":{\"outlinewidth\":0,\"ticks\":\"\"},\"type\":\"mesh3d\"}],\"parcoords\":[{\"line\":{\"colorbar\":{\"outlinewidth\":0,\"ticks\":\"\"}},\"type\":\"parcoords\"}],\"pie\":[{\"automargin\":true,\"type\":\"pie\"}],\"scatter\":[{\"marker\":{\"colorbar\":{\"outlinewidth\":0,\"ticks\":\"\"}},\"type\":\"scatter\"}],\"scatter3d\":[{\"line\":{\"colorbar\":{\"outlinewidth\":0,\"ticks\":\"\"}},\"marker\":{\"colorbar\":{\"outlinewidth\":0,\"ticks\":\"\"}},\"type\":\"scatter3d\"}],\"scattercarpet\":[{\"marker\":{\"colorbar\":{\"outlinewidth\":0,\"ticks\":\"\"}},\"type\":\"scattercarpet\"}],\"scattergeo\":[{\"marker\":{\"colorbar\":{\"outlinewidth\":0,\"ticks\":\"\"}},\"type\":\"scattergeo\"}],\"scattergl\":[{\"marker\":{\"colorbar\":{\"outlinewidth\":0,\"ticks\":\"\"}},\"type\":\"scattergl\"}],\"scattermapbox\":[{\"marker\":{\"colorbar\":{\"outlinewidth\":0,\"ticks\":\"\"}},\"type\":\"scattermapbox\"}],\"scatterpolar\":[{\"marker\":{\"colorbar\":{\"outlinewidth\":0,\"ticks\":\"\"}},\"type\":\"scatterpolar\"}],\"scatterpolargl\":[{\"marker\":{\"colorbar\":{\"outlinewidth\":0,\"ticks\":\"\"}},\"type\":\"scatterpolargl\"}],\"scatterternary\":[{\"marker\":{\"colorbar\":{\"outlinewidth\":0,\"ticks\":\"\"}},\"type\":\"scatterternary\"}],\"surface\":[{\"colorbar\":{\"outlinewidth\":0,\"ticks\":\"\"},\"colorscale\":[[0.0,\"#0d0887\"],[0.1111111111111111,\"#46039f\"],[0.2222222222222222,\"#7201a8\"],[0.3333333333333333,\"#9c179e\"],[0.4444444444444444,\"#bd3786\"],[0.5555555555555556,\"#d8576b\"],[0.6666666666666666,\"#ed7953\"],[0.7777777777777778,\"#fb9f3a\"],[0.8888888888888888,\"#fdca26\"],[1.0,\"#f0f921\"]],\"type\":\"surface\"}],\"table\":[{\"cells\":{\"fill\":{\"color\":\"#EBF0F8\"},\"line\":{\"color\":\"white\"}},\"header\":{\"fill\":{\"color\":\"#C8D4E3\"},\"line\":{\"color\":\"white\"}},\"type\":\"table\"}]},\"layout\":{\"annotationdefaults\":{\"arrowcolor\":\"#2a3f5f\",\"arrowhead\":0,\"arrowwidth\":1},\"autotypenumbers\":\"strict\",\"coloraxis\":{\"colorbar\":{\"outlinewidth\":0,\"ticks\":\"\"}},\"colorscale\":{\"diverging\":[[0,\"#8e0152\"],[0.1,\"#c51b7d\"],[0.2,\"#de77ae\"],[0.3,\"#f1b6da\"],[0.4,\"#fde0ef\"],[0.5,\"#f7f7f7\"],[0.6,\"#e6f5d0\"],[0.7,\"#b8e186\"],[0.8,\"#7fbc41\"],[0.9,\"#4d9221\"],[1,\"#276419\"]],\"sequential\":[[0.0,\"#0d0887\"],[0.1111111111111111,\"#46039f\"],[0.2222222222222222,\"#7201a8\"],[0.3333333333333333,\"#9c179e\"],[0.4444444444444444,\"#bd3786\"],[0.5555555555555556,\"#d8576b\"],[0.6666666666666666,\"#ed7953\"],[0.7777777777777778,\"#fb9f3a\"],[0.8888888888888888,\"#fdca26\"],[1.0,\"#f0f921\"]],\"sequentialminus\":[[0.0,\"#0d0887\"],[0.1111111111111111,\"#46039f\"],[0.2222222222222222,\"#7201a8\"],[0.3333333333333333,\"#9c179e\"],[0.4444444444444444,\"#bd3786\"],[0.5555555555555556,\"#d8576b\"],[0.6666666666666666,\"#ed7953\"],[0.7777777777777778,\"#fb9f3a\"],[0.8888888888888888,\"#fdca26\"],[1.0,\"#f0f921\"]]},\"colorway\":[\"#636efa\",\"#EF553B\",\"#00cc96\",\"#ab63fa\",\"#FFA15A\",\"#19d3f3\",\"#FF6692\",\"#B6E880\",\"#FF97FF\",\"#FECB52\"],\"font\":{\"color\":\"#2a3f5f\"},\"geo\":{\"bgcolor\":\"white\",\"lakecolor\":\"white\",\"landcolor\":\"#E5ECF6\",\"showlakes\":true,\"showland\":true,\"subunitcolor\":\"white\"},\"hoverlabel\":{\"align\":\"left\"},\"hovermode\":\"closest\",\"mapbox\":{\"style\":\"light\"},\"paper_bgcolor\":\"white\",\"plot_bgcolor\":\"#E5ECF6\",\"polar\":{\"angularaxis\":{\"gridcolor\":\"white\",\"linecolor\":\"white\",\"ticks\":\"\"},\"bgcolor\":\"#E5ECF6\",\"radialaxis\":{\"gridcolor\":\"white\",\"linecolor\":\"white\",\"ticks\":\"\"}},\"scene\":{\"xaxis\":{\"backgroundcolor\":\"#E5ECF6\",\"gridcolor\":\"white\",\"gridwidth\":2,\"linecolor\":\"white\",\"showbackground\":true,\"ticks\":\"\",\"zerolinecolor\":\"white\"},\"yaxis\":{\"backgroundcolor\":\"#E5ECF6\",\"gridcolor\":\"white\",\"gridwidth\":2,\"linecolor\":\"white\",\"showbackground\":true,\"ticks\":\"\",\"zerolinecolor\":\"white\"},\"zaxis\":{\"backgroundcolor\":\"#E5ECF6\",\"gridcolor\":\"white\",\"gridwidth\":2,\"linecolor\":\"white\",\"showbackground\":true,\"ticks\":\"\",\"zerolinecolor\":\"white\"}},\"shapedefaults\":{\"line\":{\"color\":\"#2a3f5f\"}},\"ternary\":{\"aaxis\":{\"gridcolor\":\"white\",\"linecolor\":\"white\",\"ticks\":\"\"},\"baxis\":{\"gridcolor\":\"white\",\"linecolor\":\"white\",\"ticks\":\"\"},\"bgcolor\":\"#E5ECF6\",\"caxis\":{\"gridcolor\":\"white\",\"linecolor\":\"white\",\"ticks\":\"\"}},\"title\":{\"x\":0.05},\"xaxis\":{\"automargin\":true,\"gridcolor\":\"white\",\"linecolor\":\"white\",\"ticks\":\"\",\"title\":{\"standoff\":15},\"zerolinecolor\":\"white\",\"zerolinewidth\":2},\"yaxis\":{\"automargin\":true,\"gridcolor\":\"white\",\"linecolor\":\"white\",\"ticks\":\"\",\"title\":{\"standoff\":15},\"zerolinecolor\":\"white\",\"zerolinewidth\":2}}},\"xaxis\":{\"anchor\":\"y\",\"domain\":[0.0,1.0],\"title\":{\"text\":\"Delta\"}},\"yaxis\":{\"anchor\":\"x\",\"domain\":[0.0,1.0]},\"legend\":{\"tracegroupgap\":0},\"title\":{\"text\":\"Minutes elapsed until failure\"},\"boxmode\":\"group\",\"height\":500,\"width\":800},                        {\"responsive\": true}                    ).then(function(){\n",
              "                            \n",
              "var gd = document.getElementById('a0ea54db-1844-4325-819a-085507d14cfa');\n",
              "var x = new MutationObserver(function (mutations, observer) {{\n",
              "        var display = window.getComputedStyle(gd).display;\n",
              "        if (!display || display === 'none') {{\n",
              "            console.log([gd, 'removed!']);\n",
              "            Plotly.purge(gd);\n",
              "            observer.disconnect();\n",
              "        }}\n",
              "}});\n",
              "\n",
              "// Listen for the removal of the full notebook cells\n",
              "var notebookContainer = gd.closest('#notebook-container');\n",
              "if (notebookContainer) {{\n",
              "    x.observe(notebookContainer, {childList: true});\n",
              "}}\n",
              "\n",
              "// Listen for the clearing of the current output cell\n",
              "var outputEl = gd.closest('.output');\n",
              "if (outputEl) {{\n",
              "    x.observe(outputEl, {childList: true});\n",
              "}}\n",
              "\n",
              "                        })                };                            </script>        </div>\n",
              "</body>\n",
              "</html>"
            ]
          },
          "metadata": {}
        }
      ]
    },
    {
      "cell_type": "markdown",
      "metadata": {
        "id": "k5HEpwF018yz"
      },
      "source": [
        "# Sugar waste"
      ]
    },
    {
      "cell_type": "markdown",
      "metadata": {
        "id": "w_qmAH6e18y3"
      },
      "source": [
        "## Uploading necessary packages"
      ]
    },
    {
      "cell_type": "code",
      "metadata": {
        "id": "OAE0Jb_O18y3"
      },
      "source": [
        "#Upgrading Plotly\n",
        "!pip install plotly --upgrade"
      ],
      "execution_count": null,
      "outputs": []
    },
    {
      "cell_type": "code",
      "metadata": {
        "id": "O_giDeT418y4"
      },
      "source": [
        "#Uploading packages\n",
        "import pandas as pd\n",
        "import numpy as np\n",
        "import matplotlib.pyplot as plt\n",
        "import datetime\n",
        "import seaborn as sns\n",
        "import plotly.express as px\n",
        "from ipywidgets import interact"
      ],
      "execution_count": null,
      "outputs": []
    },
    {
      "cell_type": "code",
      "metadata": {
        "id": "bUGbDsN-18y4"
      },
      "source": [
        "#Customizing data visualization styles\n",
        "sns.set_theme(rc = {'figure.figsize': (8, 5)})"
      ],
      "execution_count": null,
      "outputs": []
    },
    {
      "cell_type": "code",
      "metadata": {
        "id": "9HRx5uFW18y4"
      },
      "source": [
        "#Remove previous versions of the uploaded excel file\n",
        "!rm file_name.xlsx"
      ],
      "execution_count": null,
      "outputs": []
    },
    {
      "cell_type": "code",
      "metadata": {
        "id": "5L8uUjuk18y4"
      },
      "source": [
        "#Uploading file from local drive\n",
        "from google.colab import files\n",
        "uploaded3 = files.upload()"
      ],
      "execution_count": null,
      "outputs": []
    },
    {
      "cell_type": "code",
      "metadata": {
        "id": "QQ6iCOca18y4"
      },
      "source": [
        "#Storing dataset in a Pandas Dataframe\n",
        "import io\n",
        "df3 = pd.read_excel(io.BytesIO(uploaded3['Sukkervrak Drage 2021.xlsx']), header=3)"
      ],
      "execution_count": null,
      "outputs": []
    },
    {
      "cell_type": "code",
      "source": [
        "#Dropping unneccesary columns\n",
        "df3 = df3[['dato', 'Periode', 'produkt', 'gruppe', 'Sukker sluk 1etg', 'Vrak UM-Sukker']]\n",
        "df3 = df3.iloc[:68,:]"
      ],
      "metadata": {
        "id": "EaqhrGqT3fi7"
      },
      "execution_count": null,
      "outputs": []
    },
    {
      "cell_type": "code",
      "metadata": {
        "colab": {
          "base_uri": "https://localhost:8080/"
        },
        "outputId": "df30d6de-139b-41da-8720-20625f302c8e",
        "id": "6uYz61RH18y4"
      },
      "source": [
        "#Checking the dataframe info\n",
        "df3.info()"
      ],
      "execution_count": null,
      "outputs": [
        {
          "output_type": "stream",
          "name": "stdout",
          "text": [
            "<class 'pandas.core.frame.DataFrame'>\n",
            "RangeIndex: 68 entries, 0 to 67\n",
            "Data columns (total 6 columns):\n",
            " #   Column            Non-Null Count  Dtype         \n",
            "---  ------            --------------  -----         \n",
            " 0   dato              68 non-null     datetime64[ns]\n",
            " 1   Periode           68 non-null     object        \n",
            " 2   produkt           68 non-null     object        \n",
            " 3   gruppe            68 non-null     object        \n",
            " 4   Sukker sluk 1etg  50 non-null     float64       \n",
            " 5   Vrak UM-Sukker    18 non-null     float64       \n",
            "dtypes: datetime64[ns](1), float64(2), object(3)\n",
            "memory usage: 3.3+ KB\n"
          ]
        }
      ]
    },
    {
      "cell_type": "markdown",
      "source": [
        "## Data manipulation"
      ],
      "metadata": {
        "id": "gP_s3Iir6oAk"
      }
    },
    {
      "cell_type": "code",
      "source": [
        "#Aggregatin data by categories\n",
        "df3_gr = df3.groupby(by=['Periode']).agg(Slurry=('Sukker sluk 1etg', 'sum'), Filters=('Vrak UM-Sukker', 'sum')).reset_index()\n",
        "df3_gr = df3_gr.assign(Total_waste = df3_gr['Slurry'] + df3_gr['Filters'])\n",
        "df3_gr = df3_gr.replace(to_replace={'01':'Jan', '02':'Feb', '03':'Mar', '04':'Apr', '05':'May', '06':'Jun',\n",
        "                                    '07':'Jul', '08':'Ago', '09':'Sep', '10':'Oct', '11':'Nov', '12':'Dec'})\n",
        "df3_gr"
      ],
      "metadata": {
        "colab": {
          "base_uri": "https://localhost:8080/",
          "height": 394
        },
        "id": "JBf-FTiW6pwM",
        "outputId": "ecbbbe82-ca81-4d2b-d13c-ac19e5cfb88e"
      },
      "execution_count": null,
      "outputs": [
        {
          "output_type": "execute_result",
          "data": {
            "text/html": [
              "\n",
              "  <div id=\"df-5f54bcb6-8e26-409a-9088-2139f7f468e0\">\n",
              "    <div class=\"colab-df-container\">\n",
              "      <div>\n",
              "<style scoped>\n",
              "    .dataframe tbody tr th:only-of-type {\n",
              "        vertical-align: middle;\n",
              "    }\n",
              "\n",
              "    .dataframe tbody tr th {\n",
              "        vertical-align: top;\n",
              "    }\n",
              "\n",
              "    .dataframe thead th {\n",
              "        text-align: right;\n",
              "    }\n",
              "</style>\n",
              "<table border=\"1\" class=\"dataframe\">\n",
              "  <thead>\n",
              "    <tr style=\"text-align: right;\">\n",
              "      <th></th>\n",
              "      <th>Periode</th>\n",
              "      <th>Slurry</th>\n",
              "      <th>Filters</th>\n",
              "      <th>Total_waste</th>\n",
              "    </tr>\n",
              "  </thead>\n",
              "  <tbody>\n",
              "    <tr>\n",
              "      <th>0</th>\n",
              "      <td>Jan</td>\n",
              "      <td>1899.0</td>\n",
              "      <td>625.0</td>\n",
              "      <td>2524.0</td>\n",
              "    </tr>\n",
              "    <tr>\n",
              "      <th>1</th>\n",
              "      <td>Feb</td>\n",
              "      <td>3414.0</td>\n",
              "      <td>1767.0</td>\n",
              "      <td>5181.0</td>\n",
              "    </tr>\n",
              "    <tr>\n",
              "      <th>2</th>\n",
              "      <td>Mar</td>\n",
              "      <td>2815.0</td>\n",
              "      <td>637.0</td>\n",
              "      <td>3452.0</td>\n",
              "    </tr>\n",
              "    <tr>\n",
              "      <th>3</th>\n",
              "      <td>Apr</td>\n",
              "      <td>4636.0</td>\n",
              "      <td>1304.0</td>\n",
              "      <td>5940.0</td>\n",
              "    </tr>\n",
              "    <tr>\n",
              "      <th>4</th>\n",
              "      <td>May</td>\n",
              "      <td>1241.0</td>\n",
              "      <td>1214.0</td>\n",
              "      <td>2455.0</td>\n",
              "    </tr>\n",
              "    <tr>\n",
              "      <th>5</th>\n",
              "      <td>Jun</td>\n",
              "      <td>584.0</td>\n",
              "      <td>0.0</td>\n",
              "      <td>584.0</td>\n",
              "    </tr>\n",
              "    <tr>\n",
              "      <th>6</th>\n",
              "      <td>Ago</td>\n",
              "      <td>1271.0</td>\n",
              "      <td>590.0</td>\n",
              "      <td>1861.0</td>\n",
              "    </tr>\n",
              "    <tr>\n",
              "      <th>7</th>\n",
              "      <td>Sep</td>\n",
              "      <td>2496.0</td>\n",
              "      <td>1383.0</td>\n",
              "      <td>3879.0</td>\n",
              "    </tr>\n",
              "    <tr>\n",
              "      <th>8</th>\n",
              "      <td>Oct</td>\n",
              "      <td>803.0</td>\n",
              "      <td>1235.0</td>\n",
              "      <td>2038.0</td>\n",
              "    </tr>\n",
              "    <tr>\n",
              "      <th>9</th>\n",
              "      <td>Nov</td>\n",
              "      <td>635.6</td>\n",
              "      <td>1197.0</td>\n",
              "      <td>1832.6</td>\n",
              "    </tr>\n",
              "    <tr>\n",
              "      <th>10</th>\n",
              "      <td>Dec</td>\n",
              "      <td>729.0</td>\n",
              "      <td>1329.0</td>\n",
              "      <td>2058.0</td>\n",
              "    </tr>\n",
              "  </tbody>\n",
              "</table>\n",
              "</div>\n",
              "      <button class=\"colab-df-convert\" onclick=\"convertToInteractive('df-5f54bcb6-8e26-409a-9088-2139f7f468e0')\"\n",
              "              title=\"Convert this dataframe to an interactive table.\"\n",
              "              style=\"display:none;\">\n",
              "        \n",
              "  <svg xmlns=\"http://www.w3.org/2000/svg\" height=\"24px\"viewBox=\"0 0 24 24\"\n",
              "       width=\"24px\">\n",
              "    <path d=\"M0 0h24v24H0V0z\" fill=\"none\"/>\n",
              "    <path d=\"M18.56 5.44l.94 2.06.94-2.06 2.06-.94-2.06-.94-.94-2.06-.94 2.06-2.06.94zm-11 1L8.5 8.5l.94-2.06 2.06-.94-2.06-.94L8.5 2.5l-.94 2.06-2.06.94zm10 10l.94 2.06.94-2.06 2.06-.94-2.06-.94-.94-2.06-.94 2.06-2.06.94z\"/><path d=\"M17.41 7.96l-1.37-1.37c-.4-.4-.92-.59-1.43-.59-.52 0-1.04.2-1.43.59L10.3 9.45l-7.72 7.72c-.78.78-.78 2.05 0 2.83L4 21.41c.39.39.9.59 1.41.59.51 0 1.02-.2 1.41-.59l7.78-7.78 2.81-2.81c.8-.78.8-2.07 0-2.86zM5.41 20L4 18.59l7.72-7.72 1.47 1.35L5.41 20z\"/>\n",
              "  </svg>\n",
              "      </button>\n",
              "      \n",
              "  <style>\n",
              "    .colab-df-container {\n",
              "      display:flex;\n",
              "      flex-wrap:wrap;\n",
              "      gap: 12px;\n",
              "    }\n",
              "\n",
              "    .colab-df-convert {\n",
              "      background-color: #E8F0FE;\n",
              "      border: none;\n",
              "      border-radius: 50%;\n",
              "      cursor: pointer;\n",
              "      display: none;\n",
              "      fill: #1967D2;\n",
              "      height: 32px;\n",
              "      padding: 0 0 0 0;\n",
              "      width: 32px;\n",
              "    }\n",
              "\n",
              "    .colab-df-convert:hover {\n",
              "      background-color: #E2EBFA;\n",
              "      box-shadow: 0px 1px 2px rgba(60, 64, 67, 0.3), 0px 1px 3px 1px rgba(60, 64, 67, 0.15);\n",
              "      fill: #174EA6;\n",
              "    }\n",
              "\n",
              "    [theme=dark] .colab-df-convert {\n",
              "      background-color: #3B4455;\n",
              "      fill: #D2E3FC;\n",
              "    }\n",
              "\n",
              "    [theme=dark] .colab-df-convert:hover {\n",
              "      background-color: #434B5C;\n",
              "      box-shadow: 0px 1px 3px 1px rgba(0, 0, 0, 0.15);\n",
              "      filter: drop-shadow(0px 1px 2px rgba(0, 0, 0, 0.3));\n",
              "      fill: #FFFFFF;\n",
              "    }\n",
              "  </style>\n",
              "\n",
              "      <script>\n",
              "        const buttonEl =\n",
              "          document.querySelector('#df-5f54bcb6-8e26-409a-9088-2139f7f468e0 button.colab-df-convert');\n",
              "        buttonEl.style.display =\n",
              "          google.colab.kernel.accessAllowed ? 'block' : 'none';\n",
              "\n",
              "        async function convertToInteractive(key) {\n",
              "          const element = document.querySelector('#df-5f54bcb6-8e26-409a-9088-2139f7f468e0');\n",
              "          const dataTable =\n",
              "            await google.colab.kernel.invokeFunction('convertToInteractive',\n",
              "                                                     [key], {});\n",
              "          if (!dataTable) return;\n",
              "\n",
              "          const docLinkHtml = 'Like what you see? Visit the ' +\n",
              "            '<a target=\"_blank\" href=https://colab.research.google.com/notebooks/data_table.ipynb>data table notebook</a>'\n",
              "            + ' to learn more about interactive tables.';\n",
              "          element.innerHTML = '';\n",
              "          dataTable['output_type'] = 'display_data';\n",
              "          await google.colab.output.renderOutput(dataTable, element);\n",
              "          const docLink = document.createElement('div');\n",
              "          docLink.innerHTML = docLinkHtml;\n",
              "          element.appendChild(docLink);\n",
              "        }\n",
              "      </script>\n",
              "    </div>\n",
              "  </div>\n",
              "  "
            ],
            "text/plain": [
              "   Periode  Slurry  Filters  Total_waste\n",
              "0      Jan  1899.0    625.0       2524.0\n",
              "1      Feb  3414.0   1767.0       5181.0\n",
              "2      Mar  2815.0    637.0       3452.0\n",
              "3      Apr  4636.0   1304.0       5940.0\n",
              "4      May  1241.0   1214.0       2455.0\n",
              "5      Jun   584.0      0.0        584.0\n",
              "6      Ago  1271.0    590.0       1861.0\n",
              "7      Sep  2496.0   1383.0       3879.0\n",
              "8      Oct   803.0   1235.0       2038.0\n",
              "9      Nov   635.6   1197.0       1832.6\n",
              "10     Dec   729.0   1329.0       2058.0"
            ]
          },
          "metadata": {},
          "execution_count": 43
        }
      ]
    },
    {
      "cell_type": "code",
      "source": [
        "#Exporting to excel in local disk\n",
        "from google.colab import files\n",
        "df3_gr.to_excel('sugar_waste_2021.xlsx', index=False) #==> Excluding index from file\n",
        "files.download('sugar_waste_2021.xlsx')"
      ],
      "metadata": {
        "colab": {
          "base_uri": "https://localhost:8080/",
          "height": 17
        },
        "id": "l2353VVR_R_g",
        "outputId": "f536a798-b4f0-4345-8553-e83a9ef18cf9"
      },
      "execution_count": null,
      "outputs": [
        {
          "output_type": "display_data",
          "data": {
            "application/javascript": [
              "\n",
              "    async function download(id, filename, size) {\n",
              "      if (!google.colab.kernel.accessAllowed) {\n",
              "        return;\n",
              "      }\n",
              "      const div = document.createElement('div');\n",
              "      const label = document.createElement('label');\n",
              "      label.textContent = `Downloading \"${filename}\": `;\n",
              "      div.appendChild(label);\n",
              "      const progress = document.createElement('progress');\n",
              "      progress.max = size;\n",
              "      div.appendChild(progress);\n",
              "      document.body.appendChild(div);\n",
              "\n",
              "      const buffers = [];\n",
              "      let downloaded = 0;\n",
              "\n",
              "      const channel = await google.colab.kernel.comms.open(id);\n",
              "      // Send a message to notify the kernel that we're ready.\n",
              "      channel.send({})\n",
              "\n",
              "      for await (const message of channel.messages) {\n",
              "        // Send a message to notify the kernel that we're ready.\n",
              "        channel.send({})\n",
              "        if (message.buffers) {\n",
              "          for (const buffer of message.buffers) {\n",
              "            buffers.push(buffer);\n",
              "            downloaded += buffer.byteLength;\n",
              "            progress.value = downloaded;\n",
              "          }\n",
              "        }\n",
              "      }\n",
              "      const blob = new Blob(buffers, {type: 'application/binary'});\n",
              "      const a = document.createElement('a');\n",
              "      a.href = window.URL.createObjectURL(blob);\n",
              "      a.download = filename;\n",
              "      div.appendChild(a);\n",
              "      a.click();\n",
              "      div.remove();\n",
              "    }\n",
              "  "
            ],
            "text/plain": [
              "<IPython.core.display.Javascript object>"
            ]
          },
          "metadata": {}
        },
        {
          "output_type": "display_data",
          "data": {
            "application/javascript": [
              "download(\"download_328243e7-b62b-4f5e-ab5c-0e80a0d601f2\", \"sugar_waste_2021.xlsx\", 5323)"
            ],
            "text/plain": [
              "<IPython.core.display.Javascript object>"
            ]
          },
          "metadata": {}
        }
      ]
    },
    {
      "cell_type": "markdown",
      "source": [
        "## Data Visualization"
      ],
      "metadata": {
        "id": "olOn1xjC8_8O"
      }
    },
    {
      "cell_type": "code",
      "source": [
        "#Plotting the sugar waste over time\n",
        "plt.bar(df3_gr['Periode'], df3_gr['Total_waste'], label='Total')\n",
        "plt.plot(df3_gr['Periode'], df3_gr['Slurry'], label='Slurry', color='black')\n",
        "plt.plot(df3_gr['Periode'], df3_gr['Filters'], label='Filter', color='red')\n",
        "plt.title('Sugar Waste in 2021')\n",
        "plt.ylabel('Waste (Kg)')\n",
        "plt.legend()\n",
        "plt.show()"
      ],
      "metadata": {
        "colab": {
          "base_uri": "https://localhost:8080/",
          "height": 338
        },
        "id": "sHTPpTdo_xbY",
        "outputId": "93a54d73-4f63-4b01-e453-f9a71ac35d69"
      },
      "execution_count": null,
      "outputs": [
        {
          "output_type": "display_data",
          "data": {
            "image/png": "[encoded data removed]",
            "text/plain": [
              "<Figure size 576x360 with 1 Axes>"
            ]
          },
          "metadata": {}
        }
      ]
    },
    {
      "cell_type": "markdown",
      "source": [
        "# Peanuts Analytics"
      ],
      "metadata": {
        "id": "mud5cvm2vNiM"
      }
    },
    {
      "cell_type": "markdown",
      "metadata": {
        "id": "ZmsaPphkvQFU"
      },
      "source": [
        "## Uploading necessary packages"
      ]
    },
    {
      "cell_type": "code",
      "metadata": {
        "id": "WbjUBnhdvQFU"
      },
      "source": [
        "# Upgrading plotly\n",
        "#!pip install plotly --upgrade"
      ],
      "execution_count": null,
      "outputs": []
    },
    {
      "cell_type": "code",
      "source": [
        "# Upgrading openpyxl\n",
        "!pip install openpyxl --upgrade"
      ],
      "metadata": {
        "id": "HmfP3xiVwgDm"
      },
      "execution_count": null,
      "outputs": []
    },
    {
      "cell_type": "code",
      "metadata": {
        "id": "QF5xeBsXvQFU"
      },
      "source": [
        "# Uploading packages\n",
        "import pandas as pd\n",
        "import numpy as np\n",
        "import matplotlib.pyplot as plt\n",
        "import matplotlib.dates as mdates\n",
        "import datetime\n",
        "import seaborn as sns\n",
        "#import plotly.express as px"
      ],
      "execution_count": 1,
      "outputs": []
    },
    {
      "cell_type": "code",
      "metadata": {
        "id": "YaS-6kyFvQFV"
      },
      "source": [
        "# Customizing data visualization styles\n",
        "sns.set_theme(rc = {'figure.figsize': (12, 6)})"
      ],
      "execution_count": 2,
      "outputs": []
    },
    {
      "cell_type": "code",
      "metadata": {
        "id": "vnBlRAdcvQFV"
      },
      "source": [
        "# Removing previous versions of the uploaded file\n",
        "!rm file_name.xlsx"
      ],
      "execution_count": null,
      "outputs": []
    },
    {
      "cell_type": "code",
      "metadata": {
        "id": "LVbAY7LOvQFV"
      },
      "source": [
        "# Uploading file from local drive\n",
        "from google.colab import files\n",
        "uploaded4 = files.upload()"
      ],
      "execution_count": null,
      "outputs": []
    },
    {
      "cell_type": "code",
      "metadata": {
        "id": "pZlHkrrSvQFV"
      },
      "source": [
        "# Storing dataset in a Pandas Dataframe\n",
        "import io\n",
        "df4 = pd.read_excel(io.BytesIO(uploaded4['2022_peanuts_sampling.xlsx']))"
      ],
      "execution_count": 5,
      "outputs": []
    },
    {
      "cell_type": "code",
      "source": [
        "# Assigning time related categories\n",
        "df4 = df4.assign(Year = df4['Dato'].dt.year,\n",
        "                 Weeknum = df4['Dato'].dt.isocalendar().week)"
      ],
      "metadata": {
        "id": "_Z6ECD5v4f2g"
      },
      "execution_count": 6,
      "outputs": []
    },
    {
      "cell_type": "markdown",
      "source": [
        "## Data Visualization"
      ],
      "metadata": {
        "id": "aZbVxCE-zuXr"
      }
    },
    {
      "cell_type": "code",
      "source": [
        "# Plotting the half peanuts variability over time\n",
        "sns.boxplot(x='Lot-Nr', y='Split_%', data=df4) #hue='Skift', hue_order=['Dag', 'Kveld', 'Natt'])\n",
        "plt.title('Box plot of split pieces by Lot Number')\n",
        "plt.axhline(y=0.07, color='r', linewidth=3, linestyle='-')\n",
        "plt.ylim([0, 0.35])\n",
        "#plt.legend(bbox_to_anchor=(1.05, 1)) #==> Set legend outside the chart\n",
        "plt.show()"
      ],
      "metadata": {
        "id": "XomEpTMBzvpx",
        "colab": {
          "base_uri": "https://localhost:8080/",
          "height": 410
        },
        "outputId": "8243663c-0598-47b2-ff7d-6738fdbe8aad"
      },
      "execution_count": 7,
      "outputs": [
        {
          "output_type": "display_data",
          "data": {
            "image/png": "[encoded data removed]",
            "text/plain": [
              "<Figure size 864x432 with 1 Axes>"
            ]
          },
          "metadata": {}
        }
      ]
    },
    {
      "cell_type": "code",
      "source": [
        "# Plotting the half peanuts variability over time\n",
        "fig4 = sns.scatterplot(x='Dato', y='Split_%', data=df4, style='Lot-Nr', hue='Lot-Nr', palette='tab10', s=150)\n",
        "xformatter = mdates.DateFormatter(\"%b-%d\")\n",
        "fig4.xaxis.set_major_formatter(xformatter)\n",
        "plt.title('Peanuts sampling - % of split pieces by Lot Number')\n",
        "plt.axhline(y=0.07, color='r', linewidth=3, linestyle='-')\n",
        "plt.ylim([0, 0.25])\n",
        "#plt.legend(bbox_to_anchor=(1.15, 1)) #==> Set legend outside the chart\n",
        "plt.show()"
      ],
      "metadata": {
        "id": "aIwGANWb5oif",
        "colab": {
          "base_uri": "https://localhost:8080/",
          "height": 410
        },
        "outputId": "a10526d8-49e7-40be-ac6d-cd0654a815eb"
      },
      "execution_count": 8,
      "outputs": [
        {
          "output_type": "display_data",
          "data": {
            "image/png": "[encoded data removed]",
            "text/plain": [
              "<Figure size 864x432 with 1 Axes>"
            ]
          },
          "metadata": {}
        }
      ]
    },
    {
      "cell_type": "markdown",
      "source": [
        "# Peanuts Waste Forecasting"
      ],
      "metadata": {
        "id": "ZEsVkkHygkyg"
      }
    },
    {
      "cell_type": "markdown",
      "metadata": {
        "id": "aaa46bt2gkyj"
      },
      "source": [
        "## Uploading necessary packages"
      ]
    },
    {
      "cell_type": "code",
      "metadata": {
        "id": "N5q5aliGgkym"
      },
      "source": [
        "# Uploading packages\n",
        "import pandas as pd\n",
        "import numpy as np\n",
        "import matplotlib.pyplot as plt\n",
        "import matplotlib.dates as mdates\n",
        "import datetime\n",
        "import seaborn as sns\n",
        "from scipy.stats import linregress"
      ],
      "execution_count": 9,
      "outputs": []
    },
    {
      "cell_type": "code",
      "metadata": {
        "id": "BUK5i371gkyn"
      },
      "source": [
        "# Customizing data visualization styles\n",
        "sns.set_theme(rc = {'figure.figsize': (12, 6)})"
      ],
      "execution_count": 37,
      "outputs": []
    },
    {
      "cell_type": "code",
      "metadata": {
        "id": "oWns1-p8gkyn"
      },
      "source": [
        "# Removing previous versions of the uploaded file\n",
        "!rm file_name.xlsx"
      ],
      "execution_count": null,
      "outputs": []
    },
    {
      "cell_type": "code",
      "metadata": {
        "id": "yr4BvYmYgkyo"
      },
      "source": [
        "# Uploading file from local drive\n",
        "from google.colab import files\n",
        "uploaded5 = files.upload()"
      ],
      "execution_count": null,
      "outputs": []
    },
    {
      "cell_type": "code",
      "metadata": {
        "id": "mGsUpvvEgkyp"
      },
      "source": [
        "# Storing dataset in a Pandas Dataframe\n",
        "import io\n",
        "df5 = pd.read_excel(io.BytesIO(uploaded5['2022_korpus_waste.xlsx']))"
      ],
      "execution_count": 12,
      "outputs": []
    },
    {
      "cell_type": "code",
      "source": [
        "# Assigning time related categories and base cost\n",
        "df5 = df5.assign(Year = df5['Date'].dt.year,\n",
        "                 Weeknum = df5['Date'].dt.isocalendar().week,\n",
        "                 Month = df5['Date'].dt.month_name(),\n",
        "                 NOK = df5['M_Korpus']*37.48)"
      ],
      "metadata": {
        "id": "yZNmNO4Hgkyq"
      },
      "execution_count": 13,
      "outputs": []
    },
    {
      "cell_type": "code",
      "source": [
        "# Adding a cumulative cost column\n",
        "df5 = df5.assign(Korpus_Cum = df5['M_Korpus'].cumsum(),\n",
        "                 Korpus_change = df5['M_Korpus'].pct_change(),\n",
        "                 Korpus_delta = df5['M_Korpus'].diff(),\n",
        "                 Korpus_rolling = df5[['Date', 'M_Korpus']].rolling(7).mean(),\n",
        "                 Cum_Cost = df5['NOK'].cumsum())"
      ],
      "metadata": {
        "id": "skwzniTZhcoO"
      },
      "execution_count": 50,
      "outputs": []
    },
    {
      "cell_type": "code",
      "source": [
        "# Checking the dataframe tail\n",
        "df5.tail(1)"
      ],
      "metadata": {
        "colab": {
          "base_uri": "https://localhost:8080/",
          "height": 81
        },
        "id": "LcfOnKkhjITp",
        "outputId": "ce13f7f4-ea3f-4a8a-97e4-89221b724d09"
      },
      "execution_count": 51,
      "outputs": [
        {
          "output_type": "execute_result",
          "data": {
            "text/html": [
              "\n",
              "  <div id=\"df-00e54588-0714-4a70-b420-7e2ac987f602\">\n",
              "    <div class=\"colab-df-container\">\n",
              "      <div>\n",
              "<style scoped>\n",
              "    .dataframe tbody tr th:only-of-type {\n",
              "        vertical-align: middle;\n",
              "    }\n",
              "\n",
              "    .dataframe tbody tr th {\n",
              "        vertical-align: top;\n",
              "    }\n",
              "\n",
              "    .dataframe thead th {\n",
              "        text-align: right;\n",
              "    }\n",
              "</style>\n",
              "<table border=\"1\" class=\"dataframe\">\n",
              "  <thead>\n",
              "    <tr style=\"text-align: right;\">\n",
              "      <th></th>\n",
              "      <th>Date</th>\n",
              "      <th>M_Korpus</th>\n",
              "      <th>Year</th>\n",
              "      <th>Weeknum</th>\n",
              "      <th>Month</th>\n",
              "      <th>NOK</th>\n",
              "      <th>Cum_Cost</th>\n",
              "      <th>Korpus_Cum</th>\n",
              "      <th>Korpus_change</th>\n",
              "      <th>Korpus_delta</th>\n",
              "      <th>Korpus_rolling</th>\n",
              "    </tr>\n",
              "  </thead>\n",
              "  <tbody>\n",
              "    <tr>\n",
              "      <th>58</th>\n",
              "      <td>2022-03-07</td>\n",
              "      <td>5</td>\n",
              "      <td>2022</td>\n",
              "      <td>10</td>\n",
              "      <td>March</td>\n",
              "      <td>187.4</td>\n",
              "      <td>143098.64</td>\n",
              "      <td>3818</td>\n",
              "      <td>inf</td>\n",
              "      <td>5.0</td>\n",
              "      <td>3.857143</td>\n",
              "    </tr>\n",
              "  </tbody>\n",
              "</table>\n",
              "</div>\n",
              "      <button class=\"colab-df-convert\" onclick=\"convertToInteractive('df-00e54588-0714-4a70-b420-7e2ac987f602')\"\n",
              "              title=\"Convert this dataframe to an interactive table.\"\n",
              "              style=\"display:none;\">\n",
              "        \n",
              "  <svg xmlns=\"http://www.w3.org/2000/svg\" height=\"24px\"viewBox=\"0 0 24 24\"\n",
              "       width=\"24px\">\n",
              "    <path d=\"M0 0h24v24H0V0z\" fill=\"none\"/>\n",
              "    <path d=\"M18.56 5.44l.94 2.06.94-2.06 2.06-.94-2.06-.94-.94-2.06-.94 2.06-2.06.94zm-11 1L8.5 8.5l.94-2.06 2.06-.94-2.06-.94L8.5 2.5l-.94 2.06-2.06.94zm10 10l.94 2.06.94-2.06 2.06-.94-2.06-.94-.94-2.06-.94 2.06-2.06.94z\"/><path d=\"M17.41 7.96l-1.37-1.37c-.4-.4-.92-.59-1.43-.59-.52 0-1.04.2-1.43.59L10.3 9.45l-7.72 7.72c-.78.78-.78 2.05 0 2.83L4 21.41c.39.39.9.59 1.41.59.51 0 1.02-.2 1.41-.59l7.78-7.78 2.81-2.81c.8-.78.8-2.07 0-2.86zM5.41 20L4 18.59l7.72-7.72 1.47 1.35L5.41 20z\"/>\n",
              "  </svg>\n",
              "      </button>\n",
              "      \n",
              "  <style>\n",
              "    .colab-df-container {\n",
              "      display:flex;\n",
              "      flex-wrap:wrap;\n",
              "      gap: 12px;\n",
              "    }\n",
              "\n",
              "    .colab-df-convert {\n",
              "      background-color: #E8F0FE;\n",
              "      border: none;\n",
              "      border-radius: 50%;\n",
              "      cursor: pointer;\n",
              "      display: none;\n",
              "      fill: #1967D2;\n",
              "      height: 32px;\n",
              "      padding: 0 0 0 0;\n",
              "      width: 32px;\n",
              "    }\n",
              "\n",
              "    .colab-df-convert:hover {\n",
              "      background-color: #E2EBFA;\n",
              "      box-shadow: 0px 1px 2px rgba(60, 64, 67, 0.3), 0px 1px 3px 1px rgba(60, 64, 67, 0.15);\n",
              "      fill: #174EA6;\n",
              "    }\n",
              "\n",
              "    [theme=dark] .colab-df-convert {\n",
              "      background-color: #3B4455;\n",
              "      fill: #D2E3FC;\n",
              "    }\n",
              "\n",
              "    [theme=dark] .colab-df-convert:hover {\n",
              "      background-color: #434B5C;\n",
              "      box-shadow: 0px 1px 3px 1px rgba(0, 0, 0, 0.15);\n",
              "      filter: drop-shadow(0px 1px 2px rgba(0, 0, 0, 0.3));\n",
              "      fill: #FFFFFF;\n",
              "    }\n",
              "  </style>\n",
              "\n",
              "      <script>\n",
              "        const buttonEl =\n",
              "          document.querySelector('#df-00e54588-0714-4a70-b420-7e2ac987f602 button.colab-df-convert');\n",
              "        buttonEl.style.display =\n",
              "          google.colab.kernel.accessAllowed ? 'block' : 'none';\n",
              "\n",
              "        async function convertToInteractive(key) {\n",
              "          const element = document.querySelector('#df-00e54588-0714-4a70-b420-7e2ac987f602');\n",
              "          const dataTable =\n",
              "            await google.colab.kernel.invokeFunction('convertToInteractive',\n",
              "                                                     [key], {});\n",
              "          if (!dataTable) return;\n",
              "\n",
              "          const docLinkHtml = 'Like what you see? Visit the ' +\n",
              "            '<a target=\"_blank\" href=https://colab.research.google.com/notebooks/data_table.ipynb>data table notebook</a>'\n",
              "            + ' to learn more about interactive tables.';\n",
              "          element.innerHTML = '';\n",
              "          dataTable['output_type'] = 'display_data';\n",
              "          await google.colab.output.renderOutput(dataTable, element);\n",
              "          const docLink = document.createElement('div');\n",
              "          docLink.innerHTML = docLinkHtml;\n",
              "          element.appendChild(docLink);\n",
              "        }\n",
              "      </script>\n",
              "    </div>\n",
              "  </div>\n",
              "  "
            ],
            "text/plain": [
              "         Date  M_Korpus  Year  Weeknum  Month    NOK   Cum_Cost  Korpus_Cum  \\\n",
              "58 2022-03-07         5  2022       10  March  187.4  143098.64        3818   \n",
              "\n",
              "    Korpus_change  Korpus_delta  Korpus_rolling  \n",
              "58            inf           5.0        3.857143  "
            ]
          },
          "metadata": {},
          "execution_count": 51
        }
      ]
    },
    {
      "cell_type": "markdown",
      "source": [
        "## Data Visualization"
      ],
      "metadata": {
        "id": "0a9cVSukgkyq"
      }
    },
    {
      "cell_type": "code",
      "source": [
        "# Plotting the cumulative waste\n",
        "sns.lineplot(x='Date', y='Korpus_delta', data=df5)\n",
        "plt.title('Cumulative Waste over time')\n",
        "plt.show()"
      ],
      "metadata": {
        "id": "uB3n54Hmgkyr",
        "colab": {
          "base_uri": "https://localhost:8080/",
          "height": 246
        },
        "outputId": "caedec14-71b1-4783-94bb-b02b49f42753"
      },
      "execution_count": 33,
      "outputs": [
        {
          "output_type": "display_data",
          "data": {
            "image/png": "[encoded data removed]",
            "text/plain": [
              "<Figure size 864x216 with 1 Axes>"
            ]
          },
          "metadata": {}
        }
      ]
    },
    {
      "cell_type": "code",
      "source": [
        "# Grouping by week number and aggregating the cost\n",
        "df5_wk = df5.groupby(['Year', 'Weeknum']).agg(Weekly_Cost = ('Cum_Cost', 'sum')).reset_index()\n",
        "df5_wk"
      ],
      "metadata": {
        "id": "QqAPiMeFmHUm"
      },
      "execution_count": null,
      "outputs": []
    },
    {
      "cell_type": "code",
      "source": [
        "# Building a linear regression model by week on the cumulative cost\n",
        "\n",
        "x5 = np.arange(1, 60)\n",
        "y5 = np.array(df5['Cum_Cost'])\n",
        "x_365 = np.arange(1, 330)\n",
        "lreg_5 = linregress(x5, y5)\n",
        "lreg_365 = 'fitted-line: ' + str(round((lreg_5.slope*330 + lreg_5.intercept),1))"
      ],
      "metadata": {
        "id": "Vz02oDPslgmn"
      },
      "execution_count": 19,
      "outputs": []
    },
    {
      "cell_type": "code",
      "source": [
        "# Plotting the cumulative cost and forecast\n",
        "\n",
        "fig5 = sns.scatterplot(x=x5, y='Cum_Cost', data=df5, palette='tab10', label='baseline')\n",
        "fig5.plot(x_365, lreg_5.slope*x_365 + lreg_5.intercept, 'r' , label='forecast')\n",
        "plt.title('Peanuts Waste Cost Forecast 2022')\n",
        "plt.legend()\n",
        "plt.show()"
      ],
      "metadata": {
        "id": "nD0O9UEEgkys"
      },
      "execution_count": null,
      "outputs": []
    },
    {
      "cell_type": "code",
      "source": [
        "# Plotting multiple plot of waste and % split (df4)\n",
        "\n",
        "fig, axs = plt.subplots(2, sharex=True)\n",
        "fig.suptitle('% of Split vs Peanuts Waste')\n",
        "sns.lineplot(x='Dato', y='Split_%', data=df4, ci=False, ax=axs[0])\n",
        "sns.lineplot(x='Date', y='Korpus_rolling', data=df5, ax=axs[1])\n",
        "plt.show()"
      ],
      "metadata": {
        "id": "FKDSmClUaFSX"
      },
      "execution_count": null,
      "outputs": []
    }
  ]
}